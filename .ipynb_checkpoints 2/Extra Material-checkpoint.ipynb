{
 "cells": [
  {
   "cell_type": "markdown",
   "metadata": {},
   "source": [
    "# 01"
   ]
  },
  {
   "cell_type": "markdown",
   "metadata": {
    "slideshow": {
     "slide_type": "subslide"
    }
   },
   "source": [
    "### Review Exercise: Manipulating Strings\n",
    "<a href='#Strings'>Jump to Strings</a>\n",
    "\n",
    "__(A)__ \n",
    "In the cell below, print a new string whose:\n",
    " - first 3 letters are the last 3 letters of `a` \n",
    " - last 3 letters are the first 3 letters of `b` "
   ]
  },
  {
   "cell_type": "code",
   "execution_count": null,
   "metadata": {
    "collapsed": true
   },
   "outputs": [],
   "source": [
    "a = \"orangutans\"\n",
    "b = \"werewolves\""
   ]
  },
  {
   "cell_type": "markdown",
   "metadata": {},
   "source": [
    "__(B)__ \n",
    "\n",
    "In the cell below, use `c` to make a new string that says: `programming`."
   ]
  },
  {
   "cell_type": "code",
   "execution_count": null,
   "metadata": {
    "collapsed": true
   },
   "outputs": [],
   "source": [
    "c = \"programme\""
   ]
  },
  {
   "cell_type": "markdown",
   "metadata": {},
   "source": [
    "__(C)__ \n",
    "\n",
    "In the cell below, __cast__ `d` and `e` as a different type so that:\n",
    "\n",
    "`f` = (numerical value of `d`) +  (numerical value of `e`)\n",
    "\n",
    "\n",
    "using standard arithmetic. \n",
    "\n",
    "<a href='#Casting'>Jump to Type Conversion (Casting)'</a>\n",
    "\n",
    "Print `f`"
   ]
  },
  {
   "cell_type": "code",
   "execution_count": null,
   "metadata": {
    "collapsed": true
   },
   "outputs": [],
   "source": [
    "d = \"3.12\"\n",
    "e = \"7.41\"\n"
   ]
  },
  {
   "cell_type": "markdown",
   "metadata": {},
   "source": [
    "Use __shortcut notation__ to update the value of `f`.\n",
    "The new value of f should equal the __remainder (or modulo)__ when f is divided by 3.\n",
    "\n",
    "<a href='#Shortcuts'>Jump to Shortcuts</a>"
   ]
  },
  {
   "cell_type": "code",
   "execution_count": null,
   "metadata": {
    "collapsed": true
   },
   "outputs": [],
   "source": [
    "# What is the remainder (modulo) when f is divided by 3"
   ]
  },
  {
   "cell_type": "markdown",
   "metadata": {},
   "source": [
    "In the cell below, change the type of the variable f to ab integer.  \n",
    "\n",
    "<a href='#Casting'>Jump to Type Conversion (Casting)'</a>"
   ]
  },
  {
   "cell_type": "code",
   "execution_count": null,
   "metadata": {
    "collapsed": true
   },
   "outputs": [],
   "source": [
    "# f expressed as an integer"
   ]
  },
  {
   "cell_type": "markdown",
   "metadata": {
    "slideshow": {
     "slide_type": "subslide"
    }
   },
   "source": [
    "## Volume of a Cone\n",
    "The volume of a cone is:\n",
    "$$\n",
    "V = \\frac{Ah}{3}\n",
    "$$\n",
    "\n",
    "where:\n",
    "<br>$A=$ base area\n",
    "<br>$h=$ perpendicular height\n",
    "\n",
    "![title](img/cone.png)\n",
    "\n",
    "Find the internal volume of a cone of internal dimensions:\n",
    "<br>$r = 5\\textrm{cm}$ (base radius)\n",
    "<br>$h = 15 \\textrm{cm} $"
   ]
  },
  {
   "cell_type": "markdown",
   "metadata": {
    "slideshow": {
     "slide_type": "subslide"
    }
   },
   "source": [
    "The cone is held upside down and filled with liquid.\n",
    "\n",
    "The liquid is then transferred to a hollow cylinder.\n",
    "\n",
    "Base radius of cylinder, $r_c = 4cm$.\n",
    "\n",
    "<img src=\"img/cone-cyl.gif\" alt=\"Drawing\" style=\"width: 200px;\"/>\n",
    "\n",
    "The volume of liquid in the cylinder is:\n",
    "\n",
    "$V = (base \\ area)\\times(height \\ of \\ liquid)$\n",
    "\n",
    "\n",
    "In the cell below, find the height of the liquid in the cylinder?\n",
    "\n",
    "Assign a variables for $r_c$ before solving."
   ]
  },
  {
   "cell_type": "code",
   "execution_count": null,
   "metadata": {
    "collapsed": true
   },
   "outputs": [],
   "source": [
    "# H = height of liquid in the cylinder\n"
   ]
  },
  {
   "cell_type": "markdown",
   "metadata": {},
   "source": [
    "The total height of the cyclinder, $H_{tot}$ is 10cm.\n",
    "\n",
    "In the cell below, use a __comparison operator__ to show if the height of the liquid, $H$, is more than half the total height of the cylinder.  \n",
    "\n",
    "<a href='#ComparisonOperators'>Jump to Comparison Operators</a>"
   ]
  },
  {
   "cell_type": "code",
   "execution_count": null,
   "metadata": {
    "collapsed": true
   },
   "outputs": [],
   "source": [
    "# Is the height of the liquid more than half the total height of the cylinder?"
   ]
  },
  {
   "cell_type": "markdown",
   "metadata": {},
   "source": [
    "Lastly, go back and change the radius of the __cone__ to 2.5cm. \n",
    "\n",
    "Re-run the cells to observe how you can quickly re-run calculations using different initial values. "
   ]
  },
  {
   "cell_type": "code",
   "execution_count": 11,
   "metadata": {},
   "outputs": [
    {
     "name": "stdout",
     "output_type": "stream",
     "text": [
      "392.75\n"
     ]
    }
   ],
   "source": [
    "pi = 3.142\n",
    "r = 5\n",
    "h = 15\n",
    "\n",
    "A = pi * r**2\n",
    "V = A * h / 3\n",
    "\n",
    "print(V) # Print V measured in cm3"
   ]
  },
  {
   "cell_type": "markdown",
   "metadata": {
    "slideshow": {
     "slide_type": "slide"
    }
   },
   "source": [
    "<a id='ReviewExercises'></a>\n",
    "# Review Exercises\n",
    "Here are a series short problems for you to practise the new Python skills that you have learnt today in your own time."
   ]
  },
  {
   "cell_type": "markdown",
   "metadata": {
    "slideshow": {
     "slide_type": "subslide"
    }
   },
   "source": [
    "### Review Exercise: `while` loops.\n",
    "In the cell below, write a while loop that with each loop:\n",
    "- prints the value of `x`\n",
    "- then decreases the value of x by 0.5\n",
    "\n",
    "as long as `x` remains positive.\n",
    "\n",
    "<a href='#whileLoops'>Jump to While Loops</a>"
   ]
  },
  {
   "cell_type": "code",
   "execution_count": 56,
   "metadata": {
    "collapsed": true
   },
   "outputs": [],
   "source": [
    "x = 4"
   ]
  },
  {
   "cell_type": "markdown",
   "metadata": {
    "slideshow": {
     "slide_type": "subslide"
    }
   },
   "source": [
    "### Review Exercise: `for` loops\n",
    "In the cell below, write a `for` loop to print the even numbers from 2 to 100, inclusive."
   ]
  },
  {
   "cell_type": "code",
   "execution_count": 57,
   "metadata": {
    "collapsed": true
   },
   "outputs": [],
   "source": [
    "# for loop to print the even numbers from 2 to 20, inclusive."
   ]
  },
  {
   "cell_type": "markdown",
   "metadata": {
    "slideshow": {
     "slide_type": "subslide"
    }
   },
   "source": [
    "### Review Excercise: `for` loops and `if` statements\n",
    "In the cell below, write a for loop to alternately print `Red` then `Blue` 3 times. \n",
    "<br>i.e. \n",
    "<br>Red \n",
    "<br>Blue \n",
    "<br>Red \n",
    "<br>Blue \n",
    "<br>Red \n",
    "<br>Blue "
   ]
  },
  {
   "cell_type": "code",
   "execution_count": 58,
   "metadata": {
    "collapsed": true
   },
   "outputs": [],
   "source": [
    "# Alternately print Red and Blue"
   ]
  },
  {
   "cell_type": "markdown",
   "metadata": {
    "slideshow": {
     "slide_type": "subslide"
    }
   },
   "source": [
    "### Review Exercise: `continue`\n",
    "In the cell below, loop through the characters of the string.\n",
    "<br>Use `continue` to only print the letters of the word *sing*.\n",
    "<br>Hint: Refer to __Logical Operators__ (Seminar 2). \n",
    "\n",
    "<a href='#continue'>Jump to continue</a>"
   ]
  },
  {
   "cell_type": "code",
   "execution_count": 59,
   "metadata": {
    "collapsed": true
   },
   "outputs": [],
   "source": [
    "# Print the letters of the word sing\n",
    "string = \"string\""
   ]
  },
  {
   "cell_type": "markdown",
   "metadata": {
    "slideshow": {
     "slide_type": "subslide"
    }
   },
   "source": [
    "### Review Exercise: `for` loops and `if`, `else` and `continue` statements.\n",
    "__(A)__ In the cell below, use a for loop to print the square roots of the first 25 odd positive integers.\n",
    "<br> (Remember, the square root of a number, $x$ can be found by $x^{1/2}$)\n",
    "\n",
    "__(B)__ If the number generated is greater than 3 and smaller than 5, print \"`skip`\" and __`continue`__ to the next iteration *without* printing the number.\n",
    "<br>Hint: Refer to __Logical Operators__ (Seminar 2). \n",
    "\n",
    "<a href='#forLoops'>Jump to for loops</a>\n",
    "\n",
    "<a href='#ifelse'>Jump to if and else statements</a>\n",
    "\n",
    "<a href='#continue'>Jump to continue</a>"
   ]
  },
  {
   "cell_type": "code",
   "execution_count": 60,
   "metadata": {
    "collapsed": true
   },
   "outputs": [],
   "source": [
    "# square roots of the first 25 odd positive integers\n",
    "\n"
   ]
  },
  {
   "cell_type": "code",
   "execution_count": null,
   "metadata": {},
   "outputs": [],
   "source": [
    "<a id='ReviewExercises'></a>\n",
    "# Review Exercises\n",
    "Here are a series short problems for you to practise the new Python skills that you have learnt today in your own time.\n",
    "\n",
    "### Review Exercise: `while` loops.\n",
    "In the cell below, write a while loop that with each loop:\n",
    "- prints the value of `x`\n",
    "- then decreases the value of x by 0.5\n",
    "\n",
    "as long as `x` remains positive.\n",
    "\n",
    "<a href='#whileLoops'>Jump to While Loops</a>\n",
    "\n",
    "x = 4\n",
    "\n",
    "### Review Exercise: `for` loops\n",
    "In the cell below, write a `for` loop to print the even numbers from 2 to 100, inclusive.\n",
    "\n",
    "# for loop to print the even numbers from 2 to 20, inclusive.\n",
    "\n",
    "### Review Excercise: `for` loops and `if` statements\n",
    "In the cell below, write a for loop to alternately print `Red` then `Blue` 3 times. \n",
    "<br>i.e. \n",
    "<br>Red \n",
    "<br>Blue \n",
    "<br>Red \n",
    "<br>Blue \n",
    "<br>Red \n",
    "<br>Blue \n",
    "\n",
    "# Alternately print Red and Blue\n",
    "\n",
    "### Review Exercise: `continue`\n",
    "In the cell below, loop through the characters of the string.\n",
    "<br>Use `continue` to only print the letters of the word *sing*.\n",
    "<br>Hint: Refer to __Logical Operators__ (Seminar 2). \n",
    "\n",
    "<a href='#continue'>Jump to continue</a>\n",
    "\n",
    "# Print the letters of the word sing\n",
    "string = \"string\"\n",
    "\n",
    "### Review Exercise: `for` loops and `if`, `else` and `continue` statements.\n",
    "__(A)__ In the cell below, use a for loop to print the square roots of the first 25 odd positive integers.\n",
    "<br> (Remember, the square root of a number, $x$ can be found by $x^{1/2}$)\n",
    "\n",
    "__(B)__ If the number generated is greater than 3 and smaller than 5, print \"`skip`\" and __`continue`__ to the next iteration *without* printing the number.\n",
    "<br>Hint: Refer to __Logical Operators__ (Seminar 2). \n",
    "\n",
    "<a href='#forLoops'>Jump to for loops</a>\n",
    "\n",
    "<a href='#ifelse'>Jump to if and else statements</a>\n",
    "\n",
    "<a href='#continue'>Jump to continue</a>\n",
    "\n",
    "# square roots of the first 25 odd positive integers\n",
    "\n"
   ]
  },
  {
   "cell_type": "markdown",
   "metadata": {},
   "source": [
    "# 02"
   ]
  },
  {
   "cell_type": "markdown",
   "metadata": {},
   "source": [
    "## Test-Yourself Exercise : Tic-tac-toe\n",
    "__(A)__\n",
    "<br>Earlier, we wrote a very primative version of the game tic-tac-toe.\n",
    "\n",
    "The program decides whether to quit the game based on user input after each turn taken.\n",
    "\n",
    "Using:\n",
    " - `if` and `else`\n",
    " - the boolean operators `and`, `or`, `not`\n",
    " \n",
    "Edit the program to quit the game if:\n",
    " - one of the players places three marks in a row.\n",
    " - all positions have been marked but noone has won.\n",
    "<br>Hint: If the value of three colinear places is equal, the game has finished/been won.\n",
    "\n",
    "\n",
    "\n"
   ]
  },
  {
   "cell_type": "code",
   "execution_count": null,
   "metadata": {
    "collapsed": true
   },
   "outputs": [],
   "source": []
  },
  {
   "cell_type": "markdown",
   "metadata": {},
   "source": [
    "__(B)__\n",
    "<br>Edit the program to prevent a player from choosing a place that is already occupied.\n",
    "<br>For example, the program might ask the player to choose again.\n",
    "<br>e.g.\n",
    "\n",
    "        position already occupied, Player X choose a different position"
   ]
  },
  {
   "cell_type": "code",
   "execution_count": null,
   "metadata": {
    "collapsed": true
   },
   "outputs": [],
   "source": []
  },
  {
   "cell_type": "code",
   "execution_count": null,
   "metadata": {},
   "outputs": [],
   "source": [
    "# Review Exercise: Tic-tac-toe \n",
    "# Example Solution\n",
    "\n",
    "# use a for loop to set-up the board\n",
    "board = []\n",
    "for row in range(3):\n",
    "    #board.append(['_', '_', '_'])\n",
    "    board.append(['_']*3)\n",
    "    \n",
    "    \n",
    "# display the output nicely    \n",
    "for lists in board:\n",
    "    for i in lists:\n",
    "        print(i,end='\\t')\n",
    "    # leave gap before next row\n",
    "    print()\n",
    "    \n",
    "    \n",
    "# choose who goes first, X or 0    \n",
    "player = 'X'\n",
    "\n",
    "# keep playing the game until told to quit\n",
    "while(1):\n",
    "    # use if and else to take turns at adding input from each player to the board\n",
    "    if player == 'X':\n",
    "        position = input('Player X, choose position: ')\n",
    "        board[int(position[0])][int(position[1])] = 'X'\n",
    "        player = '0'\n",
    "        \n",
    "    else: \n",
    "        position = input('Player 0, choose position: ')\n",
    "        board[int(position[0])][int(position[1])] = '0'\n",
    "        player = 'X' \n",
    "        \n",
    "    \n",
    "    #board[int(position[0])][int(position[1])] = player\n",
    "        \n",
    "    \n",
    "    # display the output nicely    \n",
    "    for lists in board:\n",
    "        for i in lists:\n",
    "            print(i,end='\\t')\n",
    "        print()\n",
    "        \n",
    "    \n",
    "    if((board[0][0] == board[1][1] == board[2][2]== 'X')or\n",
    "       (board[2][0] == board[1][1] == board[0][2]== 'X')or\n",
    "       \n",
    "       (board[0][0] == board[1][0] == board[2][0]== 'X')or\n",
    "       (board[0][1] == board[1][1] == board[2][1]== 'X')or\n",
    "       (board[0][2] == board[1][2] == board[2][2]== 'X')or\n",
    "       \n",
    "       (board[0][0] == board[0][1] == board[0][2]== 'X')or\n",
    "       (board[1][0] == board[1][1] == board[1][2]== 'X')or\n",
    "       (board[2][0] == board[2][1] == board[2][2]== 'X')or\n",
    "       \n",
    "       \n",
    "       (board[0][0] == board[1][1] == board[2][2]== '0')or\n",
    "       (board[2][0] == board[1][1] == board[0][2]== '0')or\n",
    "       \n",
    "       (board[0][0] == board[1][0] == board[2][0]== '0')or\n",
    "       (board[0][1] == board[1][1] == board[2][1]== '0')or\n",
    "       (board[0][2] == board[1][2] == board[2][2]== '0')or\n",
    "       \n",
    "       (board[0][0] == board[0][1] == board[0][2]== '0')or\n",
    "       (board[1][0] == board[1][1] == board[1][2]== '0')or\n",
    "       (board[2][0] == board[2][1] == board[2][2]== '0')):\n",
    "        print(\"Game over! Player \" + player + \" wins!\")\n",
    "        break\n",
    "    \n",
    "    \n",
    "    gameover = True\n",
    "    for lists in board:\n",
    "        for i in lists:\n",
    "            if i=='_':\n",
    "                gameover = False\n",
    "    if gameover:\n",
    "        print(\"Game over! No winner.\")         \n",
    "\n"
   ]
  },
  {
   "cell_type": "markdown",
   "metadata": {},
   "source": [
    "<a id='ReviewExercises'></a>\n",
    "# Review Exercises\n",
    "Here are a series of short problems for you to practise each of the new Python skills that you have learnt today. "
   ]
  },
  {
   "cell_type": "markdown",
   "metadata": {
    "slideshow": {
     "slide_type": "subslide"
    }
   },
   "source": [
    "### Review Exercise: Importing Package Functions. \n",
    "Find a function in the Python math/random documentation that matches the function definition and use it to solve the problems below:"
   ]
  },
  {
   "cell_type": "markdown",
   "metadata": {},
   "source": [
    "__(A)__ Definition: *Return a random element from the non-empty sequence seq.*\n",
    "Choose a number at random from the set (1, 2, 4, 9, 16, 25, 36, 49)"
   ]
  },
  {
   "cell_type": "code",
   "execution_count": null,
   "metadata": {
    "collapsed": true
   },
   "outputs": [],
   "source": [
    "# Choose a number at random from the set (1, 2, 4, 9, 16, 25, 36, 49)\n",
    "random.choice([1, 2, 4, 9, 16, 25, 36, 49])"
   ]
  },
  {
   "cell_type": "markdown",
   "metadata": {},
   "source": [
    "__(B)__ Definition: *Return the floor of x, the largest integer less than or equal to x.*\n",
    "\n",
    "Round 36.2 down to the nearest integer."
   ]
  },
  {
   "cell_type": "code",
   "execution_count": null,
   "metadata": {
    "collapsed": true
   },
   "outputs": [],
   "source": [
    "# Round 36.2 down to the nearest integer."
   ]
  },
  {
   "cell_type": "markdown",
   "metadata": {},
   "source": [
    "__(C)__ Definition: *Return the square root of x.*\n",
    "\n",
    "Find the square root of 350."
   ]
  },
  {
   "cell_type": "code",
   "execution_count": null,
   "metadata": {
    "collapsed": true
   },
   "outputs": [],
   "source": [
    "# Find the square root of 350."
   ]
  },
  {
   "cell_type": "markdown",
   "metadata": {},
   "source": [
    "### Review Exercise: Random Choices\n",
    "\n",
    "Edit your adventure game from last week to include random events.\n",
    "\n",
    "Example:\n",
    "\n",
    "        print(\"You find a key\")\n",
    "        \n",
    "        answer = input(\"Do you pick the key up? \")\n",
    "        \n",
    "        if answer == 'Yes':\n",
    "            num = random.randint(1, 7)\n",
    "            if num<5:\n",
    "                print(\"The key explodes! \\nYou die!\")\n",
    "            else:\n",
    "                print(\"You pick up the key.\")\n",
    "                print(\"You try the key in the lock of the castle door\")\n",
    "\n",
    "        else:\n",
    "            print(\"The castle door opens.\")\n",
    "\n",
    "\n"
   ]
  },
  {
   "cell_type": "code",
   "execution_count": null,
   "metadata": {
    "collapsed": true
   },
   "outputs": [],
   "source": []
  },
  {
   "cell_type": "markdown",
   "metadata": {},
   "source": [
    "### Review Exercise:  Data structures.\n",
    "\n",
    "__(A)__ Write a line of code that checks whether 3 exists within the list, C.\n",
    "\n",
    "__(B)__ Write a line of code that checks whether 3.0 exists within the list, C.\n",
    "\n",
    "__(C)__ Write a line of code that checks whether \"3\" exists within the list, C.\n"
   ]
  },
  {
   "cell_type": "code",
   "execution_count": null,
   "metadata": {
    "collapsed": true
   },
   "outputs": [],
   "source": [
    "C = [2, 3, 5, 6, 1, \"hello\"]"
   ]
  },
  {
   "cell_type": "markdown",
   "metadata": {},
   "source": [
    "### Review Exercise:  Using a single list with a `for` loop.\n",
    "In the cell below, use a `for` loop to print the first letter of each month in the list.\n",
    "\n",
    "Jump to <a href='#Indexing'>Indexing</a> for how to pick out individual letters of a string.\n",
    "\n",
    "Jump to <a href='#IteratingLists'>Iterating over lists</a> for how to loop through each element of a list.\n",
    "\n"
   ]
  },
  {
   "cell_type": "code",
   "execution_count": null,
   "metadata": {
    "collapsed": true
   },
   "outputs": [],
   "source": [
    "# Print the first letter of each month in the list\n",
    "\n",
    "months = [\"January\",\n",
    "         \"February\",\n",
    "         \"March\",\n",
    "         \"April\",\n",
    "         \"May\",\n",
    "         \"June\",\n",
    "         \"July\",\n",
    "         \"August\",\n",
    "         \"September\",\n",
    "         \"October\",\n",
    "         \"November\",\n",
    "         \"December\"]"
   ]
  },
  {
   "cell_type": "markdown",
   "metadata": {},
   "source": [
    "# 3 "
   ]
  },
  {
   "cell_type": "markdown",
   "metadata": {
    "collapsed": true,
    "slideshow": {
     "slide_type": "slide"
    }
   },
   "source": [
    "# Review Exercises\n",
    "<a id='ReviewExercises'></a>\n",
    "Here are a series of short problems for you to practise each of the new Python skills that you have learnt today."
   ]
  },
  {
   "cell_type": "markdown",
   "metadata": {},
   "source": [
    "## Review Exercise : Drawing Lines\n",
    "The program below (from https://lorenzod8n.wordpress.com/2007/05/27/pygame-tutorial-2-drawing-lines/) draws a blue 'X' across the game window."
   ]
  },
  {
   "cell_type": "code",
   "execution_count": 5,
   "metadata": {},
   "outputs": [
    {
     "ename": "NameError",
     "evalue": "name 'sys' is not defined",
     "output_type": "error",
     "traceback": [
      "\u001b[0;31m---------------------------------------------------------------------------\u001b[0m",
      "\u001b[0;31mNameError\u001b[0m                                 Traceback (most recent call last)",
      "\u001b[0;32m<ipython-input-5-82c8e99385a8>\u001b[0m in \u001b[0;36m<module>\u001b[0;34m()\u001b[0m\n\u001b[1;32m      7\u001b[0m     \u001b[0;32mif\u001b[0m \u001b[0mevent\u001b[0m\u001b[0;34m.\u001b[0m\u001b[0mtype\u001b[0m \u001b[0;34m==\u001b[0m \u001b[0mpygame\u001b[0m\u001b[0;34m.\u001b[0m\u001b[0mQUIT\u001b[0m\u001b[0;34m:\u001b[0m\u001b[0;34m\u001b[0m\u001b[0m\n\u001b[1;32m      8\u001b[0m         \u001b[0mpygame\u001b[0m\u001b[0;34m.\u001b[0m\u001b[0mquit\u001b[0m\u001b[0;34m(\u001b[0m\u001b[0;34m)\u001b[0m\u001b[0;34m\u001b[0m\u001b[0m\n\u001b[0;32m----> 9\u001b[0;31m         \u001b[0msys\u001b[0m\u001b[0;34m.\u001b[0m\u001b[0mexit\u001b[0m\u001b[0;34m(\u001b[0m\u001b[0;34m)\u001b[0m\u001b[0;34m\u001b[0m\u001b[0m\n\u001b[0m\u001b[1;32m     10\u001b[0m     \u001b[0mscreen\u001b[0m\u001b[0;34m.\u001b[0m\u001b[0mfill\u001b[0m\u001b[0;34m(\u001b[0m\u001b[0;34m(\u001b[0m\u001b[0;36m255\u001b[0m\u001b[0;34m,\u001b[0m \u001b[0;36m255\u001b[0m\u001b[0;34m,\u001b[0m \u001b[0;36m255\u001b[0m\u001b[0;34m)\u001b[0m\u001b[0;34m)\u001b[0m\u001b[0;34m\u001b[0m\u001b[0m\n\u001b[1;32m     11\u001b[0m     \u001b[0mpygame\u001b[0m\u001b[0;34m.\u001b[0m\u001b[0mdraw\u001b[0m\u001b[0;34m.\u001b[0m\u001b[0mline\u001b[0m\u001b[0;34m(\u001b[0m\u001b[0mscreen\u001b[0m\u001b[0;34m,\u001b[0m \u001b[0;34m(\u001b[0m\u001b[0;36m0\u001b[0m\u001b[0;34m,\u001b[0m \u001b[0;36m0\u001b[0m\u001b[0;34m,\u001b[0m \u001b[0;36m255\u001b[0m\u001b[0;34m)\u001b[0m\u001b[0;34m,\u001b[0m \u001b[0;34m(\u001b[0m\u001b[0;36m0\u001b[0m\u001b[0;34m,\u001b[0m \u001b[0;36m0\u001b[0m\u001b[0;34m)\u001b[0m\u001b[0;34m,\u001b[0m \u001b[0;34m(\u001b[0m\u001b[0;36m639\u001b[0m\u001b[0;34m,\u001b[0m \u001b[0;36m479\u001b[0m\u001b[0;34m)\u001b[0m\u001b[0;34m)\u001b[0m\u001b[0;34m\u001b[0m\u001b[0m\n",
      "\u001b[0;31mNameError\u001b[0m: name 'sys' is not defined"
     ]
    }
   ],
   "source": [
    "import pygame\n",
    "import sys\n",
    "\n",
    "screen = pygame.display.set_mode((640, 480))\n",
    "\n",
    "while 1:\n",
    "    event = pygame.event.poll()\n",
    "    if event.type == pygame.QUIT:      \n",
    "        pygame.quit()\n",
    "        sys.exit()  \n",
    "    screen.fill((255, 255, 255))\n",
    "    pygame.draw.line(screen, (0, 0, 255), (0, 0), (639, 479))\n",
    "    pygame.draw.line(screen, (0, 0, 255), (639, 0), (0, 479))\n",
    "    pygame.display.update()"
   ]
  },
  {
   "cell_type": "markdown",
   "metadata": {},
   "source": [
    "__1.__ Improve the program by using named variables (in place of numbers) for:\n",
    "    - screen height\n",
    "    - screen width\n",
    "    - line colour\n",
    "    - top left\n",
    "    - bottom left\n",
    "    - top right\n",
    "    - bottom right\n",
    "\n",
    "To verify that you have made all the required changes, try setting the creen width and height to different values and confirm you still get two diagonal lines and that each line’s end points are at one of the corners of the window.\n",
    "\n",
    "__2.__ Modify the program to draw the two lines in different colors.\n",
    "\n",
    "__3.__ Write a program that instead draws one horizontal and one vertical line. The lines should both be centered.\n",
    "\n",
    "__4.__ Write a program that draws four lines: the diagonal lines as in the example as well has the horizontal and vertical lines as in the last exercise. \n",
    "<br>Each line should be in a different color. \n",
    "<br>The program should take the height and width of the window as user inputs, using the `input` function."
   ]
  },
  {
   "cell_type": "markdown",
   "metadata": {},
   "source": [
    "# Review Exercise : Animating Lines\n",
    "Run the program below from https://lorenzod8n.wordpress.com/2007/05/27/pygame-tutorial-2-drawing-lines/.\n",
    "\n",
    "Comment out the line screen.fill(bgcolor) and run the program. What happens?\n",
    "\n",
    "Extend the program to also include a vertical line that moves across the screen"
   ]
  },
  {
   "cell_type": "code",
   "execution_count": null,
   "metadata": {
    "collapsed": true
   },
   "outputs": [],
   "source": [
    "import pygame\n",
    "import sys\n",
    " \n",
    "y = 0\n",
    "dir = 1\n",
    "running = 1\n",
    "width = 800\n",
    "height = 600\n",
    "screen = pygame.display.set_mode((width, height))\n",
    "linecolor = 255, 0, 0\n",
    "bgcolor = 0, 0, 0\n",
    "\n",
    "while 1:\n",
    "    event = pygame.event.poll()\n",
    "    if event.type == pygame.QUIT:      \n",
    "        pygame.quit()\n",
    "        sys.exit()\n",
    "        \n",
    "    screen.fill(bgcolor)\n",
    "    pygame.draw.line(screen, linecolor, (0, y), (width-1, y))\n",
    "    y += dir\n",
    "    if y == 0 or y == height-1: \n",
    "        dir *= -1\n",
    "    pygame.display.update()"
   ]
  },
  {
   "cell_type": "markdown",
   "metadata": {},
   "source": [
    "# 4"
   ]
  },
  {
   "cell_type": "markdown",
   "metadata": {
    "slideshow": {
     "slide_type": "slide"
    }
   },
   "source": [
    "# Test Yourself Exercises\n",
    "<a id='TestYourselfExercises'></a>\n",
    "Open the file that you created in class 03_ProgramStructure_Graphics.\n",
    "\n",
    "This is your \"aquarium\":\n",
    "\n",
    "<p align=\"center\">\n",
    "  <img src=\"img/shapes_moving.gif\" alt=\"Drawing\" style=\"width: 400px;\"/>\n",
    "</p>\n",
    "\n",
    "Complete the Test-Youself exercises below by editing the code in this file.\n",
    "\n",
    "Save your answers as .py files and email them to:\n",
    "<br>philamore.hemma.5s@kyoto-u.ac.jp"
   ]
  },
  {
   "cell_type": "markdown",
   "metadata": {},
   "source": [
    "__Example solution to these questions are given in the file sample_data/aquarium_physical_interfaces.py__"
   ]
  },
  {
   "cell_type": "markdown",
   "metadata": {
    "slideshow": {
     "slide_type": "slide"
    }
   },
   "source": [
    "## Test-Yourself Exercise: Keyboard press\n",
    "Create at least one event in your aquarium that is triggered by a keyboard press.\n",
    "\n",
    "Some examples:\n",
    "- If you press 'R', all the \"fish\" turn red.\n",
    "- If you press 'G', all the \"fish\" turn green until the key is released.\n",
    "- Quit the game by pressing a key.\n",
    "- A fish is moved by the arrow keys.\n",
    "\n",
    "A full list of key-codes that can be used in Pygame can be found in the file PygameKey-codes in the ILAS_Python_for_everyone directory.\n"
   ]
  },
  {
   "cell_type": "markdown",
   "metadata": {
    "slideshow": {
     "slide_type": "slide"
    }
   },
   "source": [
    "## Test-Yourself Exercise: Mouse position\n",
    "Create at least one event in your aquarium in response to the mouse position\n",
    "\n",
    "Some examples:\n",
    "- The fish are scared of the mouse curser and all move away from it.\n",
    "- The fish move towards the mouse curser; their velocity is proportional to their distance from the mouse.\n",
    "\n",
    "A full list of key-codes that can be used in Pygame can be found in the file PygameKey-codes in the ILAS_Python_for_everyone directory."
   ]
  },
  {
   "cell_type": "markdown",
   "metadata": {
    "slideshow": {
     "slide_type": "slide"
    }
   },
   "source": [
    "## Test-Yourself Exercise: Mouse press\n",
    "Create at least one event in your aquarium in response to the mouse position\n",
    "\n",
    "Some examples:\n",
    "- If you click on a location, a fish swims to that location\n",
    "- If you click on a fish it disappears\n",
    "- Pressing the left button makes a fish turn black; pressing the ritgh button makes it turn white.\n",
    "\n"
   ]
  },
  {
   "cell_type": "markdown",
   "metadata": {},
   "source": [
    "# 5"
   ]
  },
  {
   "cell_type": "markdown",
   "metadata": {
    "collapsed": true,
    "slideshow": {
     "slide_type": "slide"
    }
   },
   "source": [
    "## Review Exercises\n",
    "<a id='ReviewExercises'></a>\n",
    "The following review problems are designed to:\n",
    " - test your understanding of the different techniques for building functions that we have learnt today.\n",
    " - test your ability to use user-defined Pyhton functions to solve the type of engineering problems you will encounter in your studies. "
   ]
  },
  {
   "cell_type": "markdown",
   "metadata": {
    "slideshow": {
     "slide_type": "slide"
    }
   },
   "source": [
    "### Review Exercise: Simple function\n",
    "\n",
    "In the cell below, write a function called `is_even` that determines if a number is even by running:\n",
    "\n",
    "```python\n",
    "is_even(n)\n",
    "```\n",
    "\n",
    "Input: `n` (an integer). \n",
    "\n",
    "Output: \n",
    " - `True` if the argument is even\n",
    " - `False` if the argument is not even\n",
    " \n",
    "Include a __documentation string (docstring)__ to say what your function does.\n",
    "\n",
    "<a href='#DocString'>Jump to Documentation Strings</a>\n",
    " \n",
    "Print the output of your function for several input values."
   ]
  },
  {
   "cell_type": "code",
   "execution_count": null,
   "metadata": {},
   "outputs": [],
   "source": [
    "# A simple function"
   ]
  },
  {
   "cell_type": "markdown",
   "metadata": {},
   "source": [
    "### Review Exercise: Expressing Calculations as Functions\n",
    "\n",
    "__(A)__ Write a function called `square_root` that prints the square root of an input argument by running:\n",
    "\n",
    "```python\n",
    "square_root(n)\n",
    "```\n",
    "\n",
    "Input: `n` (a numeric variable). \n",
    "\n",
    "Output: Returns the square root of `n`\n",
    "\n",
    "Include a doc-string to say what your function does. \n",
    "\n",
    "<a href='#DocString'>Jump to Documentation Strings'</a> \n",
    "\n",
    "__(B)__ Using your answer to print the sqaure root of the first 25 odd positive integers."
   ]
  },
  {
   "cell_type": "code",
   "execution_count": null,
   "metadata": {},
   "outputs": [],
   "source": [
    "# A function to find the square root of an input"
   ]
  },
  {
   "cell_type": "markdown",
   "metadata": {},
   "source": [
    "### Review Exercise: Using Data Structures as Function Arguments - Counter\n",
    "In the cell below write a function:\n",
    "\n",
    "Input: A list. e.g. `[\"fizz\", \"buzz\", \"buzz\", \"fizz\", \"fizz\", \"fizz\"]`\n",
    "\n",
    "Output: Returns the numer of times \"fizz\" appears in a list.\n",
    "\n",
    "Demonstrate that your function works by inputting a list.\n",
    "\n",
    "*Hint 1:* Create a local variable, `count`, within your function.\n",
    "<br>Increment the count by one for each instance of `fizz`.\n",
    "\n",
    "*Hint 2:* Use a `for` loop to iterate over the list to count the number of times `fizz` appears."
   ]
  },
  {
   "cell_type": "code",
   "execution_count": null,
   "metadata": {},
   "outputs": [],
   "source": [
    "# Counter"
   ]
  },
  {
   "cell_type": "markdown",
   "metadata": {},
   "source": [
    "### Review Exercise: Using Functions as Function Arguments, Default Arguments. \n",
    "Copy and paste your function `is_even` from __Review Exercise: Simple function__ in the cell below.\n",
    "\n",
    "__(A)__ Edit `is_even` to:\n",
    "- take two input arguments:\n",
    " - a numeric variable, `n`\n",
    " - the function `square_root` from __Review Exercise: Using Data Structures as Function Arguments__. <a href='#FunctionsAsArguments'>Jump to Using Functions as Function Arguments.</a> \n",
    "- return:\n",
    " - `True` if the square root of n is even\n",
    " - `False` if the square root of n is not even\n",
    "\n",
    "__(B)__ Make `square_root` the __default__ value of the function argument.\n",
    "<br><a href='#DefaultArguments'>Jump to Default Arguments.</a>  \n",
    "<br>Force the function argument to be input using a named argument. \n",
    "<br><a href='#ForcingDefaultArguments'>Jump to Forcing Default Arguments.</a>  \n",
    "\n",
    "__(C)__ Print the output ofthe function `is_even` for the first 25 natural numbers."
   ]
  },
  {
   "cell_type": "code",
   "execution_count": null,
   "metadata": {},
   "outputs": [],
   "source": [
    "# A function to determine if the square root of a number is odd or even"
   ]
  },
  {
   "cell_type": "markdown",
   "metadata": {},
   "source": [
    "### Review Exercise: Scope\n",
    "\n",
    "In the example below, complete the comments with definition (\"local variable\"/\"global variable\") describing the scope of variables a-c."
   ]
  },
  {
   "cell_type": "code",
   "execution_count": null,
   "metadata": {},
   "outputs": [],
   "source": [
    "# In the code below: \n",
    "# a is a local variable / global variable\n",
    "# b is a ...\n",
    "# c is a ...\n",
    "# d is a ...\n",
    "\n",
    "def my_function(a):\n",
    "    b = a - 2\n",
    "    return b\n",
    "\n",
    "c = 3\n",
    "\n",
    "if c > 2:\n",
    "    d = my_function(5)\n",
    "    print(d)"
   ]
  },
  {
   "cell_type": "markdown",
   "metadata": {},
   "source": [
    "# 6 "
   ]
  },
  {
   "cell_type": "markdown",
   "metadata": {
    "slideshow": {
     "slide_type": "slide"
    }
   },
   "source": [
    "<a id='TestYourselfExercises'></a>\n",
    "# Review Exercises\n",
    "\n",
    "Compete the exercises below.\n",
    "\n",
    "Save your answers as .py files and email them to:\n",
    "<br>philamore.hemma.5s@kyoto-u.ac.jp"
   ]
  },
  {
   "cell_type": "code",
   "execution_count": null,
   "metadata": {},
   "outputs": [],
   "source": [
    "# Test-Yourself Exercise : User-defined Library\n",
    "- Create a new folder with the name `library_homework`\n",
    "- Inside the `library_homework` folder create:\n",
    "    - a *file* with the name `my_library.py`\n",
    "    - a *file* with the name `A.py`\n",
    "    - a *file* with the name `__init__.py`\n",
    "    - a *folder* with the name `my_project`\n",
    "\n",
    "- Inside the `my_project` folder create a file with the name `B.py`.\n",
    "\n",
    "- In the file `my_library.py`, define two functions:\n",
    "\n",
    "##### `fish`\n",
    "- Input : Colour (default value red)\n",
    "- Output : Draws a fish\n",
    "\n",
    "##### `my_func`\n",
    "- Input : `x`, `y`\n",
    "- Outputs: A list:\n",
    "    - Element 0 = `x + y`\n",
    "    - Element 1 = `2x - y`\n",
    "\n",
    "<br>\n",
    "1. Use the function `my_func` from the within `A.py`\n",
    "\n",
    "1. Copy the code from `sample_data/game_template.py` and paste it into `B.py`. \n",
    "\n",
    "1. In `B.py`, import the function `fish` and use it to draw:\n",
    "    - a red fish\n",
    "    - a blue fish\n",
    "    \n",
    "1. In your aquarium file, import the function `fish` and use it to draw a fish.  \n",
    "\n",
    "# User-defined library\n",
    "\n",
    "# See folder library_homework_example for solution# User-defined library\n",
    "\n",
    "# See folder library_homework_example for solution"
   ]
  },
  {
   "cell_type": "code",
   "execution_count": null,
   "metadata": {},
   "outputs": [],
   "source": [
    "# User-defined library\n",
    "\n",
    "# See folder library_homework_example for solution"
   ]
  }
 ],
 "metadata": {
  "kernelspec": {
   "display_name": "Python 3",
   "language": "python",
   "name": "python3"
  },
  "language_info": {
   "codemirror_mode": {
    "name": "ipython",
    "version": 3
   },
   "file_extension": ".py",
   "mimetype": "text/x-python",
   "name": "python",
   "nbconvert_exporter": "python",
   "pygments_lexer": "ipython3",
   "version": "3.6.5"
  }
 },
 "nbformat": 4,
 "nbformat_minor": 2
}
