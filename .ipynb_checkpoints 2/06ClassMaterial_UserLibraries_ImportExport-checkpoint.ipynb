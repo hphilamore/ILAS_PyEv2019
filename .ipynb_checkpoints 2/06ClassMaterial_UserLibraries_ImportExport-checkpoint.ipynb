{
 "cells": [
  {
   "cell_type": "markdown",
   "metadata": {
    "slideshow": {
     "slide_type": "slide"
    }
   },
   "source": [
    "## Please download the new class notes.\n",
    "### Step 1 : Navigate to the directory where your files are stored.  \n",
    "Open a terminal. \n",
    "<br>Using `cd`, navigate to *inside* the ILAS_Python_for_everyone folder on your computer. \n",
    "### Step 3 : Update the course notes by downloading the changes\n",
    "In the terminal type:\n",
    "\n",
    ">`git add -A\n",
    "git commit -m \"commit\"\n",
    "git fetch upstream\n",
    "git merge -X theirs upstream/master`\n"
   ]
  },
  {
   "cell_type": "markdown",
   "metadata": {
    "collapsed": true,
    "slideshow": {
     "slide_type": "slide"
    }
   },
   "source": [
    "# Advanced Functions and Building your own Function Library\n",
    "\n",
    "<br> <a href='#StoringFunctions'>Storing Functions</a>\n",
    "<br> <a href='#WritingYourOwnLibaray'>Writing Your Own Libaray</a> \n",
    "<br> <a href='#Namespaces'>Namespaces</a> \n",
    "\t<br> &emsp;&emsp; <a href='#LocalNamespace'>The Local Namespace</a> \n",
    "<br> <a href='#ModuleSearchPath'>The Module Search Path</a> \n",
    "    <br> &emsp;&emsp; <a href='#FilesLocatedSameDirectory'>Files Located in the Same Directory</a> \n",
    "    <br> &emsp;&emsp; <a href='#__init__.py'>__init__.py</a> \n",
    "    <br> &emsp;&emsp; <a href='#AddingModulesPathSpyder'>Adding Modules to the Path using Spyder</a> \n",
    "    <br> &emsp;&emsp; <a href='#AddingModulessitepackages'>Adding Modules to the 'site-packages’</a>\n",
    "    <br> <a href='#ReadingWritingTextFiles'>Reading and Writing Text Files</a> \n",
    "    <br> &emsp;&emsp; <a href='#WritingFiles'>Writing Files</a> \n",
    "    <br> &emsp;&emsp; <a href='#ReadingFiles'>Reading Files</a> \n",
    "    <br> &emsp;&emsp; <a href='#AppendingFiles'>Appending Files</a> \n",
    "    <br> &emsp;&emsp; <a href='#AutomaticallyClosingFileswith'>Automatically Closing Files using `with`</a> \n",
    "    <br> &emsp;&emsp; <a href='#ReadingEditingFiles'>Reading and Editing Files</a> \n",
    "<a href='#ImportingDataDelimitedFiles'>Importing Data from Delimited Files</a>  \n",
    "<br> <a href='#LambdaFunctions'>Lambda Functions</a> \n",
    "<br> <a href='#Summary'>Summary</a> \n",
    "<br> <a href='#TestYourselfExercises'>Test-Yourself Exercises</a>\n",
    "<br> <a href='#ReviewExercises'>Review Exercises</a>"
   ]
  },
  {
   "cell_type": "markdown",
   "metadata": {
    "slideshow": {
     "slide_type": "slide"
    }
   },
   "source": [
    "### Lesson Goal\n",
    "\n",
    "1. Store functions and variable that you have written in external files and import them to your programs.\n",
    "1. Store output from your programs as\n",
    "1. write Lambda functions\n",
    "\n",
    "### Fundamental programming concepts\n",
    " - File hierarchy\n",
    " - Making your code more readable by storing it in multiple files\n",
    " - Using specific function constructs to write code more efficiently\n",
    " - Importing and exporting data from your Python programs.\n",
    "2. Write a  __lambda function__. "
   ]
  },
  {
   "cell_type": "markdown",
   "metadata": {
    "slideshow": {
     "slide_type": "slide"
    }
   },
   "source": [
    "## Storing Functions and Variables.\n",
    "<a id='StoringFunctions'></a>\n",
    "Python function definitions, variables, and constants can be stored in one or more separate files.\n",
    "\n",
    "This keeps things tidy and allows the functions to be used in multiple programs without re-writing the code.  \n",
    "\n"
   ]
  },
  {
   "cell_type": "markdown",
   "metadata": {
    "slideshow": {
     "slide_type": "slide"
    }
   },
   "source": [
    "The file containing the function definitions is called a “module”.\n",
    "\n",
    "The module name is the file name without the “.py” extension.\n",
    "\n"
   ]
  },
  {
   "cell_type": "markdown",
   "metadata": {
    "slideshow": {
     "slide_type": "slide"
    }
   },
   "source": [
    "These are saved to you computer when you install a module e.g. Pygame.\n",
    "<br>(Note: Many widely used packages are automatically installed with Anaconda)."
   ]
  },
  {
   "cell_type": "markdown",
   "metadata": {
    "slideshow": {
     "slide_type": "slide"
    }
   },
   "source": [
    "For example, the functions of the Pygame library are stored as a system of:\n",
    "- __sub-packages__ (sub-folders)\n",
    "- __modules__ (.py files).\n",
    "\n",
    " <img src=\"img/directory_tree_pygame_rect.png\" alt=\"Drawing\" style=\"width: 400px;\"/>"
   ]
  },
  {
   "cell_type": "markdown",
   "metadata": {
    "slideshow": {
     "slide_type": "slide"
    }
   },
   "source": [
    "By writing:\n",
    "\n",
    "    `pygame.draw.rect(window, white, pygame.Rect(x_position, y_position, width, height))`\n",
    "\n",
    "We are telling the computer to use:\n",
    " - the function `rect`...\n",
    " - ...from the module `draw`...\n",
    " - ...from the package `pygame`"
   ]
  },
  {
   "cell_type": "markdown",
   "metadata": {
    "slideshow": {
     "slide_type": "slide"
    }
   },
   "source": [
    "This function draws a rectangle described by the input arguments.\n",
    "<br>`x_position`\n",
    "<br>`y_position`\n",
    "<br>`width`\n",
    "<br>`height`\n",
    "\n",
    "\n"
   ]
  },
  {
   "cell_type": "markdown",
   "metadata": {
    "slideshow": {
     "slide_type": "slide"
    }
   },
   "source": [
    "A directory should contain a file called `__init__.py` for Python to treat the Python files within it as packages.\n",
    "\n",
    "(However, the examples in this notebook should work without the `__init__.py file`.)\n",
    "\n",
    "<img src=\"img/directory_tree__init__.png\" alt=\"Drawing\" style=\"width: 200px;\"/>"
   ]
  },
  {
   "cell_type": "markdown",
   "metadata": {},
   "source": [
    "In the simplest case, `__init__.py` can just be an empty file\n",
    "\n",
    "It can also execute initialization code for a package.\n",
    "\n",
    "We will learn about the role of this file later in today's class."
   ]
  },
  {
   "cell_type": "markdown",
   "metadata": {
    "slideshow": {
     "slide_type": "slide"
    }
   },
   "source": [
    "## Writing Your Own Library\n",
    "<a id='WritingYourOwnLibrary'></a>\n",
    "It can be useful to store the functions that you write as multiple files."
   ]
  },
  {
   "cell_type": "markdown",
   "metadata": {
    "slideshow": {
     "slide_type": "slide"
    }
   },
   "source": [
    "Typically, you will have one main program into which the other modules are imported.\n",
    "\n",
    "<img src=\"img/importing_packages_.png\" alt=\"Drawing\" style=\"width: 700px;\"/>"
   ]
  },
  {
   "cell_type": "markdown",
   "metadata": {
    "slideshow": {
     "slide_type": "slide"
    }
   },
   "source": [
    "This allows you to:\n",
    "- keep your code readable and tidy\n",
    "- re-use functions in multiple programs without re-writing the code"
   ]
  },
  {
   "cell_type": "markdown",
   "metadata": {
    "slideshow": {
     "slide_type": "slide"
    }
   },
   "source": [
    "Like other libraries, user-defined modules are made available within a program using the Python `import` keyword. \n",
    "\n",
    "Example\n",
    "\n",
    ">`import pygame`\n",
    "\n",
    "It is general practise to place all import statements at the beginning of the program."
   ]
  },
  {
   "cell_type": "markdown",
   "metadata": {
    "slideshow": {
     "slide_type": "-"
    }
   },
   "source": [
    "As we hae already studied, imported functions or variables can be called using the module name followed by the function name.\n",
    "\n",
    "Example\n",
    "\n",
    ">`pygame.quit()`"
   ]
  },
  {
   "cell_type": "markdown",
   "metadata": {
    "slideshow": {
     "slide_type": "slide"
    }
   },
   "source": [
    "Let's learnt to import code from a user-defined library...\n",
    "\n",
    "Open Spyder.\n",
    "\n",
    "Create two new files with the names:\n",
    "- `file_A.py`\n",
    "- `file_B.py`\n",
    "\n",
    "Save them in a new folder called `functions_example`."
   ]
  },
  {
   "cell_type": "markdown",
   "metadata": {
    "slideshow": {
     "slide_type": "-"
    }
   },
   "source": [
    "<img src=\"img/fileA_fileB.png\" alt=\"Drawing\" style=\"width: 500px;\"/>"
   ]
  },
  {
   "cell_type": "markdown",
   "metadata": {
    "slideshow": {
     "slide_type": "slide"
    }
   },
   "source": [
    "Copy and paste the code from the cell below into `file_B.py`"
   ]
  },
  {
   "cell_type": "code",
   "execution_count": 3,
   "metadata": {},
   "outputs": [],
   "source": [
    "number_B = 2\n",
    "\n",
    "def print_a_number(number=2):\n",
    "    print(number)    \n",
    "    \n",
    "def type_interrogate(data):\n",
    "    print(type(data))"
   ]
  },
  {
   "cell_type": "markdown",
   "metadata": {
    "slideshow": {
     "slide_type": "slide"
    }
   },
   "source": [
    "Save the file :\n",
    "\n",
    "File >> Save"
   ]
  },
  {
   "cell_type": "markdown",
   "metadata": {
    "slideshow": {
     "slide_type": "slide"
    }
   },
   "source": [
    "In File_A:\n",
    "- import file_B.py\n",
    "\n",
    "        import file_B\n",
    "\n",
    "- call the two functions\n",
    "\n",
    "        file_B.print_a_number(4)\n",
    "        \n",
    "        file_B.type_interrogate('hello')\n",
    "        \n",
    "        print(file_B.number_B)\n",
    "\n"
   ]
  },
  {
   "cell_type": "markdown",
   "metadata": {
    "slideshow": {
     "slide_type": "slide"
    }
   },
   "source": [
    "*What happens if `print_a_number` is called without an argument?*\n",
    "\n"
   ]
  },
  {
   "cell_type": "markdown",
   "metadata": {
    "slideshow": {
     "slide_type": "slide"
    }
   },
   "source": [
    "*What happpens if `type_interrogate` is called without an argument? *"
   ]
  },
  {
   "cell_type": "markdown",
   "metadata": {
    "collapsed": true,
    "slideshow": {
     "slide_type": "slide"
    }
   },
   "source": [
    "## Namespaces\n",
    "<a id='Namespaces'></a>\n",
    "We prefix `print_a_number`, `type_interrogate` and `number_B` with the __namespace__,  `file_B`.\n",
    "\n",
    "This shows which package we want to import the functions from.\n",
    "\n",
    "\n",
    "\n"
   ]
  },
  {
   "cell_type": "markdown",
   "metadata": {
    "slideshow": {
     "slide_type": "slide"
    }
   },
   "source": [
    "For example, when using the function `math.cos()`, we use the name space `math`:"
   ]
  },
  {
   "cell_type": "code",
   "execution_count": 12,
   "metadata": {},
   "outputs": [
    {
     "data": {
      "text/plain": [
       "-1.0"
      ]
     },
     "execution_count": 12,
     "metadata": {},
     "output_type": "execute_result"
    }
   ],
   "source": [
    "import math\n",
    "\n",
    "math.cos(math.pi)"
   ]
  },
  {
   "cell_type": "markdown",
   "metadata": {
    "slideshow": {
     "slide_type": "slide"
    }
   },
   "source": [
    "The __namespace__ shows we want to use the `cos` function from the `math` package.\n",
    "\n",
    "If `cos` appears in more than one package we import, then there will be more than one `cos` function available.\n",
    "\n",
    "We must make it clear which `cos` we want to use. \n",
    "\n",
    "\n"
   ]
  },
  {
   "cell_type": "markdown",
   "metadata": {
    "slideshow": {
     "slide_type": "slide"
    }
   },
   "source": [
    "#### Example: Square Root\n",
    "\n",
    "Below are two functions, both named `sqrt`. \n",
    "\n",
    "Both functions compute the square root of the input.\n",
    "\n",
    " - `math.sqrt`, from the package, `math`, gives an error if the input is a negative number. It does not support complex numbers.\n",
    " - `cmath.sqrt`, from the package, `cmath`, supports complex numbers.\n"
   ]
  },
  {
   "cell_type": "code",
   "execution_count": 3,
   "metadata": {
    "slideshow": {
     "slide_type": "slide"
    }
   },
   "outputs": [
    {
     "name": "stdout",
     "output_type": "stream",
     "text": [
      "2.0\n",
      "2.23606797749979j\n"
     ]
    }
   ],
   "source": [
    "import math\n",
    "import cmath\n",
    "print(math.sqrt(4))\n",
    "#print(math.sqrt(-5))\n",
    "#print(cmath.sqrt(-5))"
   ]
  },
  {
   "cell_type": "markdown",
   "metadata": {
    "slideshow": {
     "slide_type": "slide"
    }
   },
   "source": [
    "Two people collaborating on the same program might choose the same name for two functions that perform similar tasks. \n",
    "\n",
    "If these functions are in different modules, there will be no name clash since the module name provides a 'namespace'. "
   ]
  },
  {
   "cell_type": "markdown",
   "metadata": {
    "slideshow": {
     "slide_type": "slide"
    }
   },
   "source": [
    "### The Local Namespace.\n",
    "<a id='LocalNamespace'></a>\n",
    "Internally, each Python module and program has its own local namespace.\n",
    "\n",
    "The local namesapce is a “symbol table” which contains the names of all functions and variables that you don't have to prepend with a namespace."
   ]
  },
  {
   "cell_type": "markdown",
   "metadata": {
    "slideshow": {
     "slide_type": "slide"
    }
   },
   "source": [
    "When you import a module with an import statement, only the module’s name gets added to the local namespace – <br>(i.e. the imported module’s local namespace does not get added.)\n",
    "\n",
    "This is to avoid possible conflicts due to functions with the same name appearing in multiple imported modules. \n",
    "\n",
    "This is why you must prefix the function name with the module name. "
   ]
  },
  {
   "cell_type": "markdown",
   "metadata": {
    "slideshow": {
     "slide_type": "slide"
    }
   },
   "source": [
    "You can change the module name in the local namespace.\n",
    "\n",
    "In file_A.py, you can change the line:\n",
    "\n",
    "    import file_B\n",
    "\n",
    "to \n",
    "\n",
    "    import file_B as fb\n",
    "    \n"
   ]
  },
  {
   "cell_type": "markdown",
   "metadata": {
    "slideshow": {
     "slide_type": "slide"
    }
   },
   "source": [
    "We can now call a function using a shortened version of the module name\n",
    "\n",
    "    file_B.print_a_number(4)\n",
    "    \n",
    "to\n",
    "\n",
    "    fb.print_a_number(4)"
   ]
  },
  {
   "cell_type": "markdown",
   "metadata": {
    "slideshow": {
     "slide_type": "slide"
    }
   },
   "source": [
    "If you don't have name collisions, you can import *individual functions* and remove the need for the module name altogether:\n",
    "\n",
    "        import file_B as fb\n",
    "        from file_B import print_a_number\n",
    "\n",
    "        print_a_number(4)\n",
    "        \n",
    "        fb.interrogate_type('hello')\n"
   ]
  },
  {
   "cell_type": "markdown",
   "metadata": {
    "slideshow": {
     "slide_type": "slide"
    }
   },
   "source": [
    "To import *all functions* and varibales from a module, and remove the need for the module name altogether:\n",
    "\n",
    "        from file_B import *\n",
    "\n",
    "        print_a_number(4)\n",
    "\n",
    "        interrogate_type('hello')"
   ]
  },
  {
   "cell_type": "markdown",
   "metadata": {
    "slideshow": {
     "slide_type": "slide"
    }
   },
   "source": [
    "It is inadvisable to use * where you do not know the full content of a module e.g. a library such as Pygame.\n",
    "\n",
    "It may be appropraite to use * with a small, *specific*, user-defined module. "
   ]
  },
  {
   "cell_type": "markdown",
   "metadata": {},
   "source": [
    "### Variable Scope\n",
    "In Python, global variables are global *within a module, not across all modules*.\n",
    "<br>This can cause problems..."
   ]
  },
  {
   "cell_type": "markdown",
   "metadata": {},
   "source": [
    "For example, import a global varibale from file_B.py to file_A.py and change its value:\n",
    "\n",
    "```python\n",
    "from file_B import number_B\n",
    "number_B = 0\n",
    "```\n",
    "<br>\n",
    "\n",
    "The value of `number_B` in file_A.py :\n",
    "```python\n",
    "print(number_B);\n",
    "```\n",
    "__`>> 0`__\n",
    "\n",
    "<br>\n",
    "\n",
    "The value of `number_B` in file_B.py :\n",
    "```python\n",
    "print(number_B);\n",
    "```\n",
    "__`>> 2`__ (the original value)\n",
    "\n",
    "<br>\n",
    "\n",
    "In other words, the global variable does *not* update across all files. "
   ]
  },
  {
   "cell_type": "markdown",
   "metadata": {},
   "source": [
    "###### The most common way to share global variables across different modules. \n",
    "\n",
    "One module (.py file) is used to store the global variables.\n",
    "\n",
    "This module is imported to __all__ other modules (that need to access the global varoables).\n",
    "\n",
    "Let's look at the same example again. Notice the slight difference in how we import `number_B` from `file_B.py`..."
   ]
  },
  {
   "cell_type": "markdown",
   "metadata": {},
   "source": [
    "```python\n",
    "import file_B \n",
    "file_B.number_B = 0\n",
    "```\n",
    "<br>\n",
    "\n",
    "The value of `number_B` in file_A.py :\n",
    "```python\n",
    "print(file_B.number_B);\n",
    "```\n",
    "__`>> 0`__\n",
    "\n",
    "<br>\n",
    "\n",
    "The value of `number_B` in file_B.py :\n",
    "```python\n",
    "print(file_B.number_B);\n",
    "```\n",
    "__`>> 0`__ \n",
    "\n",
    "<br>\n",
    "\n",
    "This time, the global variable updates across all files. "
   ]
  },
  {
   "cell_type": "markdown",
   "metadata": {},
   "source": [
    "The module that contains the global variables (in this case `file_B`) is called the __configuration module__.\n",
    "\n",
    "When changing the variable or using the variable, it is *always* prefixed with the configuration module name.\n",
    "\n",
    "The prefixed variable can be accessed and updated by all other modules.\n",
    "\n",
    "To identify which is the configuration module and remind us to import it, it is often called `config.py` or `cfg.py`.\n",
    "\n"
   ]
  },
  {
   "cell_type": "markdown",
   "metadata": {},
   "source": [
    "#### Remember... \n",
    "*Do not* use a `from ... import` *unless* the variable is intended to be a constant (i.e. it's value will not change during the program). \n",
    "\n",
    "__Example:__\n",
    "`from file_B import number_B` in file_A.py creates a new global variable with scope within file_A.py only.  "
   ]
  },
  {
   "cell_type": "markdown",
   "metadata": {},
   "source": [
    "Check if really need to make a variable global. It may be that you only use it within one file.\n",
    "\n",
    "If that is the case, you do not need to make it global across all files. "
   ]
  },
  {
   "cell_type": "markdown",
   "metadata": {
    "slideshow": {
     "slide_type": "slide"
    }
   },
   "source": [
    "### The Module Search Path\n",
    "<a id='ModuleSearchPath'></a>\n",
    "When a module is imported, the Python interpreter searches a collection of directories for a module with that name. \n",
    "\n",
    "The collection of directories is called the Python path.\n",
    "\n",
    "It is stored as a list of strings. \n",
    "\n"
   ]
  },
  {
   "cell_type": "markdown",
   "metadata": {
    "slideshow": {
     "slide_type": "slide"
    }
   },
   "source": [
    "You can display the Python path for your computer by running:"
   ]
  },
  {
   "cell_type": "code",
   "execution_count": 4,
   "metadata": {},
   "outputs": [
    {
     "name": "stdout",
     "output_type": "stream",
     "text": [
      "['', '/anaconda3/lib/python36.zip', '/anaconda3/lib/python3.6', '/anaconda3/lib/python3.6/lib-dynload', '/anaconda3/lib/python3.6/site-packages', '/anaconda3/lib/python3.6/site-packages/aeosa', '/anaconda3/lib/python3.6/site-packages/IPython/extensions', '/Users/hemma/.ipython']\n"
     ]
    }
   ],
   "source": [
    "import sys\n",
    "print(sys.path)"
   ]
  },
  {
   "cell_type": "markdown",
   "metadata": {
    "slideshow": {
     "slide_type": "slide"
    }
   },
   "source": [
    "`sys` is a module with useful functions for accessing your computer system."
   ]
  },
  {
   "cell_type": "markdown",
   "metadata": {
    "slideshow": {
     "slide_type": "slide"
    }
   },
   "source": [
    "For a module to be available for import, it must feature in the Python path. \n",
    "\n",
    "When you *install* a python module, the action you are doing is adding the module location to the python path.\n",
    "\n"
   ]
  },
  {
   "cell_type": "markdown",
   "metadata": {
    "slideshow": {
     "slide_type": "slide"
    }
   },
   "source": [
    "There are multiple ways to add a module to the search path.\n",
    "\n",
    "Today we will focus on the simplest, (and arguably the most useful) ways to import modules.  \n",
    "\n",
    "\n",
    "\n",
    "\n",
    "\n"
   ]
  },
  {
   "cell_type": "markdown",
   "metadata": {
    "slideshow": {
     "slide_type": "slide"
    }
   },
   "source": [
    "### Files Located in the Same Directory.\n",
    "<a id='FilesLocatedSameDirectory'></a>"
   ]
  },
  {
   "cell_type": "markdown",
   "metadata": {
    "slideshow": {
     "slide_type": "slide"
    }
   },
   "source": [
    "file_A and file_B are in the same folder.\n",
    "\n",
    "<img src=\"img/fileA_fileB.png\" alt=\"Drawing\" style=\"width: 600px;\"/>"
   ]
  },
  {
   "cell_type": "markdown",
   "metadata": {
    "slideshow": {
     "slide_type": "slide"
    }
   },
   "source": [
    "We therefore refer to them as 'sibling' files.\n",
    "\n",
    "The file can 'see' it's siblings.\n",
    "\n",
    "We can import code just by using the `import` keyword.\n",
    "\n"
   ]
  },
  {
   "cell_type": "markdown",
   "metadata": {
    "collapsed": true,
    "slideshow": {
     "slide_type": "slide"
    }
   },
   "source": [
    "The file can also 'see' folders in the same directory.\n",
    "\n",
    "Create a new folder, called `sibling_folder`, in the same directory as file_A.py and file_B.py.\n",
    "\n",
    "Within this folder, use spyder to create a new file called `file_C.py`. \n",
    "\n",
    "<img src=\"img/sibling_folder.png\" alt=\"Drawing\" style=\"width: 600px;\"/>"
   ]
  },
  {
   "cell_type": "markdown",
   "metadata": {
    "slideshow": {
     "slide_type": "slide"
    }
   },
   "source": [
    "Copy and paste the code from the cell below into file_C.py\n",
    "\n",
    "Save the file."
   ]
  },
  {
   "cell_type": "code",
   "execution_count": 7,
   "metadata": {},
   "outputs": [],
   "source": [
    "def subtract_and_increment(a, b):\n",
    "    \"\"\"\"\n",
    "    Return a minus b, plus 1\n",
    "    \"\"\"\n",
    "    c = a - b + 1\n",
    "    return c"
   ]
  },
  {
   "cell_type": "markdown",
   "metadata": {
    "collapsed": true,
    "slideshow": {
     "slide_type": "slide"
    }
   },
   "source": [
    "__Importing code from file_C to file_A __\n",
    "\n",
    "In `file_A.py`:\n",
    "\n",
    "```python\n",
    "import sibling_folder.file_C\n",
    "print(sibling_folder.file_C.subtract_and_increment(8, 10))\n",
    "```"
   ]
  },
  {
   "cell_type": "markdown",
   "metadata": {
    "slideshow": {
     "slide_type": "slide"
    }
   },
   "source": [
    "__Importing code from file_C to file_A __\n",
    "\n",
    "In `file_A.py`:\n",
    "\n",
    "```python\n",
    "from sibling_folder.file_C import *\n",
    "print(subtract_and_increment(8, 10))\n",
    "```"
   ]
  },
  {
   "cell_type": "markdown",
   "metadata": {
    "slideshow": {
     "slide_type": "slide"
    }
   },
   "source": [
    "If a file is located one level or more higher than a program, it cannot automatically be seen by the program. \n",
    "\n",
    "To import the file we need to add its location to the Python path. \n",
    "<br>(the places the Python interpreter looks for modules).\n",
    "\n",
    "The easiest way to do this is using the module `sys`."
   ]
  },
  {
   "cell_type": "markdown",
   "metadata": {
    "slideshow": {
     "slide_type": "slide"
    }
   },
   "source": [
    "Use spyder to create a new file in the same folder as `file_C.py`.\n",
    "\n",
    "Call it `file_D.py`.\n",
    "\n",
    "<img src=\"img/fileD.png\" alt=\"Drawing\" style=\"width: 600px;\"/>"
   ]
  },
  {
   "cell_type": "markdown",
   "metadata": {
    "slideshow": {
     "slide_type": "slide"
    }
   },
   "source": [
    "Copy and paste the following code to `file_D.py`\n",
    "\n",
    "The code `append`s (adds) the directory one level up (`../`) to the python path list.\n"
   ]
  },
  {
   "cell_type": "code",
   "execution_count": 1,
   "metadata": {},
   "outputs": [
    {
     "ename": "ModuleNotFoundError",
     "evalue": "No module named 'file_B'",
     "output_type": "error",
     "traceback": [
      "\u001b[0;31m---------------------------------------------------------------------------\u001b[0m",
      "\u001b[0;31mModuleNotFoundError\u001b[0m                       Traceback (most recent call last)",
      "\u001b[0;32m<ipython-input-1-612d870a2143>\u001b[0m in \u001b[0;36m<module>\u001b[0;34m()\u001b[0m\n\u001b[1;32m      1\u001b[0m \u001b[0;32mimport\u001b[0m \u001b[0msys\u001b[0m\u001b[0;34m\u001b[0m\u001b[0m\n\u001b[1;32m      2\u001b[0m \u001b[0msys\u001b[0m\u001b[0;34m.\u001b[0m\u001b[0mpath\u001b[0m\u001b[0;34m.\u001b[0m\u001b[0mappend\u001b[0m\u001b[0;34m(\u001b[0m\u001b[0;34m'../'\u001b[0m\u001b[0;34m)\u001b[0m\u001b[0;34m\u001b[0m\u001b[0m\n\u001b[0;32m----> 3\u001b[0;31m \u001b[0;32mimport\u001b[0m \u001b[0mfile_B\u001b[0m\u001b[0;34m\u001b[0m\u001b[0m\n\u001b[0m",
      "\u001b[0;31mModuleNotFoundError\u001b[0m: No module named 'file_B'"
     ]
    }
   ],
   "source": [
    "import sys\n",
    "sys.path.append('../')\n",
    "import file_B"
   ]
  },
  {
   "cell_type": "markdown",
   "metadata": {
    "slideshow": {
     "slide_type": "slide"
    }
   },
   "source": [
    "The functions from `file_B.py` can now be used within `file_D.py`\n",
    "\n",
    "e.g.\n",
    "\n",
    "    file_B.print_a_number()"
   ]
  },
  {
   "cell_type": "markdown",
   "metadata": {
    "slideshow": {
     "slide_type": "slide"
    }
   },
   "source": [
    "Notice the addition to the list when we append a directory to the path"
   ]
  },
  {
   "cell_type": "code",
   "execution_count": 4,
   "metadata": {},
   "outputs": [
    {
     "name": "stdout",
     "output_type": "stream",
     "text": [
      "['', '/anaconda3/lib/python36.zip', '/anaconda3/lib/python3.6', '/anaconda3/lib/python3.6/lib-dynload', '/anaconda3/lib/python3.6/site-packages', '/anaconda3/lib/python3.6/site-packages/aeosa', '/anaconda3/lib/python3.6/site-packages/IPython/extensions', '/Users/hemma/.ipython', '../']\n",
      "\n",
      "['', '/anaconda3/lib/python36.zip', '/anaconda3/lib/python3.6', '/anaconda3/lib/python3.6/lib-dynload', '/anaconda3/lib/python3.6/site-packages', '/anaconda3/lib/python3.6/site-packages/aeosa', '/anaconda3/lib/python3.6/site-packages/IPython/extensions', '/Users/hemma/.ipython', '../', '../']\n",
      "\n",
      "['', '/anaconda3/lib/python36.zip', '/anaconda3/lib/python3.6', '/anaconda3/lib/python3.6/lib-dynload', '/anaconda3/lib/python3.6/site-packages', '/anaconda3/lib/python3.6/site-packages/aeosa', '/anaconda3/lib/python3.6/site-packages/IPython/extensions', '/Users/hemma/.ipython', '../']\n"
     ]
    }
   ],
   "source": [
    "import sys\n",
    "print(sys.path, end=\"\\n\\n\")\n",
    "\n",
    "# # Add a directory\n",
    "sys.path.append('../')\n",
    "print(sys.path, end=\"\\n\\n\")\n",
    "\n",
    "# Remove a directory\n",
    "sys.path.remove('../')\n",
    "print(sys.path)"
   ]
  },
  {
   "cell_type": "markdown",
   "metadata": {
    "slideshow": {
     "slide_type": "slide"
    }
   },
   "source": [
    "The path allows us to import code located anywhere on the compter.\n",
    "\n",
    "<img src=\"img/fileEFG.png\" alt=\"Drawing\" style=\"width: 700px;\"/>\n",
    "\n",
    "\n",
    "- to import code from file_E.py to file_C.py, <br>in file_C.py:\n",
    "> `sys.path.append('../../another_example')`\n"
   ]
  },
  {
   "cell_type": "markdown",
   "metadata": {
    "slideshow": {
     "slide_type": "slide"
    }
   },
   "source": [
    "<img src=\"img/fileEFG.png\" alt=\"Drawing\" style=\"width: 700px;\"/>\n",
    "\n",
    "\n",
    "\n",
    "- to import code from file_G.py to file_B.py, <br>in file_B.p:\n",
    "> `sys.path.append('../thesis)`"
   ]
  },
  {
   "cell_type": "markdown",
   "metadata": {
    "slideshow": {
     "slide_type": "slide"
    }
   },
   "source": [
    "Another way to add a location to the Python path is to use the __full file path__.\n",
    "\n",
    "__Full file path :__ The path to the file you want to use from your computers Home directory."
   ]
  },
  {
   "cell_type": "markdown",
   "metadata": {
    "slideshow": {
     "slide_type": "slide"
    }
   },
   "source": [
    "##### Windows computer \n",
    "\n",
    "The full file path usually begins with the letter name of the drive.\n",
    "\n",
    "e.g.\n",
    "\n",
    ">`C:\\Desktop\\my_folder\\my_sub_folder`\n",
    "\n",
    "Folder `my_sub_folder` is on the `C` drive.\n",
    "\n",
    "We can import this location to a program using:\n",
    "\n",
    "`sys.path.append('C:\\Desktop\\my_folder\\my_sub_folder')`"
   ]
  },
  {
   "cell_type": "markdown",
   "metadata": {
    "slideshow": {
     "slide_type": "slide"
    }
   },
   "source": [
    "You can find the path by right clicking on the file and choosing:\n",
    "    \n",
    ">`Properties`\n",
    "\n",
    "<img src=\"img/properties1.jpg\" alt=\"Drawing\" style=\"width: 200px;\"/>\n",
    "\n",
    "\n",
    "\n"
   ]
  },
  {
   "cell_type": "markdown",
   "metadata": {
    "slideshow": {
     "slide_type": "slide"
    }
   },
   "source": [
    "Then copy and paste the file `Location`\n",
    "\n",
    "<img src=\"img/properties2.jpg\" alt=\"Drawing\" style=\"width: 600px;\"/>"
   ]
  },
  {
   "cell_type": "markdown",
   "metadata": {
    "slideshow": {
     "slide_type": "slide"
    }
   },
   "source": [
    "Or you can press + hold 'Shift' *and* right click on the file and choose:\n",
    "\n",
    ">`Copy as path`\n",
    "\n",
    "<img src=\"img/copyaspath.jpg\" alt=\"Drawing\" style=\"width: 400px;\"/>"
   ]
  },
  {
   "cell_type": "markdown",
   "metadata": {
    "slideshow": {
     "slide_type": "slide"
    }
   },
   "source": [
    "##### Mac \n",
    "\n",
    "\n",
    "The full file path usually begins at the `Users` directory.\n",
    "\n",
    "e.g.\n",
    "\n",
    ">`/Users/Hemma/Desktop/my_folder/my_sub_folder`\n",
    "\n",
    "Folder `my_sub_folder` belongs to the user, `Hemma`.\n",
    "\n",
    "\n",
    "We can import this location to a program using:\n",
    "\n",
    "`sys.path.append('/Users/Hemma/Desktop/my_folder/my_sub_folder')`"
   ]
  },
  {
   "cell_type": "markdown",
   "metadata": {
    "slideshow": {
     "slide_type": "slide"
    }
   },
   "source": [
    "You can find the path by right clicking on the file and choosing:\n",
    "    \n",
    ">`Get info`\n",
    "\n",
    "<img src=\"img/getinfo.jpeg\" alt=\"Drawing\" style=\"width: 600px;\"/>\n",
    "\n",
    "\n",
    "\n"
   ]
  },
  {
   "cell_type": "markdown",
   "metadata": {
    "slideshow": {
     "slide_type": "slide"
    }
   },
   "source": [
    "Then copy and paste the file `Where`\n",
    "\n",
    "<img src=\"img/where.jpg\" alt=\"Drawing\" style=\"width: 600px;\"/>"
   ]
  },
  {
   "cell_type": "markdown",
   "metadata": {
    "slideshow": {
     "slide_type": "slide"
    }
   },
   "source": [
    "Or you can drag the file into a terminal and the path will appear.\n",
    "\n",
    "\n",
    "<img src=\"img/dragterm.jpg\" alt=\"Drawing\" style=\"width: 400px;\"/>"
   ]
  },
  {
   "cell_type": "markdown",
   "metadata": {
    "slideshow": {
     "slide_type": "slide"
    }
   },
   "source": [
    "### `__init__.py`\n",
    "<a id='__init__.py'></a>\n",
    "\n",
    "The Python interpreter will only check directories that contain a file with the name `__init__.py`.\n",
    "\n",
    "You should create an empty file with the name `__init__.py` within any directory you wish to import.\n",
    "\n",
    "The purpose of this is to prevent other python files with the same name (e.g. other projects) from being mistakenly imported. "
   ]
  },
  {
   "cell_type": "markdown",
   "metadata": {
    "slideshow": {
     "slide_type": "slide"
    }
   },
   "source": [
    "As mentioned earlier, the examples in this tutorial will probably work without `__init__.py`.\n",
    "\n",
    "It is best practise to use `__init__.py`.\n",
    "\n",
    "Create an empty file with the name `__init__.py` in folders:\n",
    "- `functions_example`\n",
    "- `sibling_folder`"
   ]
  },
  {
   "cell_type": "markdown",
   "metadata": {
    "slideshow": {
     "slide_type": "slide"
    }
   },
   "source": [
    "### Adding Modules to the 'site-packages'.\n",
    "<a id='AddingModulessite-packages'></a>\n",
    "\n",
    "`site-packages` is the name of the directory of manually insalled python packages. \n",
    "\n",
    "You can find the location of `site-packages` by running:\n",
    ">`print(sys.path)`\n",
    "\n",
    "Installed packages such as `Pygame` are found here.\n",
    "\n",
    "\n",
    "\n"
   ]
  },
  {
   "cell_type": "markdown",
   "metadata": {
    "slideshow": {
     "slide_type": "slide"
    }
   },
   "source": [
    "If you add a module to thuis directory, it will be universally accessible within the home directory of your computer system.\n",
    "\n",
    "i.e. You can call it from anywhere by using `import` just as for Pygame or any other installed package. "
   ]
  },
  {
   "cell_type": "markdown",
   "metadata": {
    "slideshow": {
     "slide_type": "slide"
    }
   },
   "source": [
    "# Import and Export \n",
    "\n",
    "Until now, we have only considered data that remains within the Python program."
   ]
  },
  {
   "cell_type": "markdown",
   "metadata": {
    "slideshow": {
     "slide_type": "slide"
    }
   },
   "source": [
    "When we run a program, variables are created, used and no longer exist when the program finishes or is terminated.  \n",
    "\n",
    "We cannot access the information from outside of the Python program.\n"
   ]
  },
  {
   "cell_type": "markdown",
   "metadata": {
    "slideshow": {
     "slide_type": "slide"
    }
   },
   "source": [
    "It can be useful to access data created by a program.\n",
    "\n",
    "In a game we might want to:\n",
    "- store a player's score to continue playing the game later\n",
    "- store a leaderboard of top scores\n",
    "\n",
    "For an assingment or project it can be useful to store output from your program as:\n",
    "- a graph\n",
    "- text"
   ]
  },
  {
   "cell_type": "markdown",
   "metadata": {
    "slideshow": {
     "slide_type": "slide"
    }
   },
   "source": [
    "## Reading and Writing Text Files\n",
    "<a id='ReadingWritingTextFiles'></a>\n",
    "Python has a collection of easy to use functions for reading and writing files: \n",
    "- `open()`\n",
    "- `read()`\n",
    "- `write()`\n",
    "- `close()` \n",
    "\n"
   ]
  },
  {
   "cell_type": "markdown",
   "metadata": {
    "slideshow": {
     "slide_type": "slide"
    }
   },
   "source": [
    "Before a file can be read or written to, it must be opened using the `open()` function. \n",
    "\n",
    "__Function arguments:__\n",
    "1. Path to the file (filename and location)\n",
    "2. The *mode specifier* with which to open the file:\n",
    "\n",
    "\n",
    "    \n",
    " \n",
    "\n"
   ]
  },
  {
   "cell_type": "markdown",
   "metadata": {
    "slideshow": {
     "slide_type": "slide"
    }
   },
   "source": [
    "<br>\n",
    "- `r`: open an existing file to read\n",
    "\n",
    "<br>   \n",
    "- `w`: open an existing file to write to. <br>If no file exists: creates a new file.<br>If file exists : over-writes previous contents.\n",
    "\n",
    "<br>    \n",
    "- `a`: open an existing file to write to. <br>If no file exists: creates a new file.<br>If file exists : appends text to end of file."
   ]
  },
  {
   "cell_type": "markdown",
   "metadata": {
    "slideshow": {
     "slide_type": "slide"
    }
   },
   "source": [
    "- `r+`: open a text file to read from __or__ write to. <br>File must already exist.<br>If file exists : over-writes previous contents.\n",
    "\n",
    "<br>\n",
    "- `w+`: open a text file to read from __or__ write to.<br>If no file exists: creates a new file.<br>If file exists : over-writes previous contents.\n",
    "\n",
    "<br>\n",
    "- `a+` : open a text file to read from __or__ write to.<br>If no file exists: creates a new file.<br>If file exists : appends text to end of file.\n"
   ]
  },
  {
   "cell_type": "markdown",
   "metadata": {
    "slideshow": {
     "slide_type": "slide"
    }
   },
   "source": [
    "Once the file is open, it creates a *file object*.  \n",
    "\n",
    "We can interrogate the file for various details including whether it is open or closed:\n",
    "\n",
    " - `name`: Name of the opened file\n",
    " - `mode`: Mode specifier with which the file was opened  \n",
    " - `closed`: Boolean True or False\n",
    " - `readable( )`: Read permission, Boolean True or False\n",
    " - `writable( )`: Write permission, Boolean True or False"
   ]
  },
  {
   "cell_type": "markdown",
   "metadata": {
    "slideshow": {
     "slide_type": "slide"
    }
   },
   "source": [
    "__Example__\n",
    "\n",
    "Once a file has been opened it's contents can be read, overwritten, or added to, depnding on the mode specifier used to open it. \n",
    "\n",
    "We are going to open an example file as if we were going to *write* some data to it. \n",
    "<br>(Note, if the file does not already exist, running this line will create the file). \n",
    "\n",
    "The mode specifier is `w`."
   ]
  },
  {
   "cell_type": "code",
   "execution_count": 5,
   "metadata": {
    "slideshow": {
     "slide_type": "-"
    }
   },
   "outputs": [],
   "source": [
    "file = open(\"Examples/pong_scores.txt\", \"w\" )"
   ]
  },
  {
   "cell_type": "markdown",
   "metadata": {
    "slideshow": {
     "slide_type": "slide"
    }
   },
   "source": [
    "Once the file is open, we can *interrogate* it for information."
   ]
  },
  {
   "cell_type": "code",
   "execution_count": 6,
   "metadata": {
    "slideshow": {
     "slide_type": "-"
    }
   },
   "outputs": [
    {
     "name": "stdout",
     "output_type": "stream",
     "text": [
      "File Name: Examples/pong_scores.txt\n",
      "Open Mode: w\n",
      "Readable: False\n",
      "Writable: True\n"
     ]
    }
   ],
   "source": [
    "# Interrrogate the file:\n",
    "print( \"File Name:\",  file.name )\n",
    "\n",
    "print( \"Open Mode:\",  file.mode )\n",
    "\n",
    "print( \"Readable:\",  file.readable())\n",
    "\n",
    "print( \"Writable:\",  file.writable())"
   ]
  },
  {
   "cell_type": "markdown",
   "metadata": {
    "slideshow": {
     "slide_type": "slide"
    }
   },
   "source": [
    "An open file must then always be closed again by calling the close() method.\n",
    "\n",
    "Let's first write a function to show us if a file is open or closed."
   ]
  },
  {
   "cell_type": "code",
   "execution_count": 7,
   "metadata": {},
   "outputs": [],
   "source": [
    "# Write a function to determine the file's status:\n",
    "def get_status( f ):\n",
    "    if ( f.closed != False ) :\n",
    "        return \"Closed\"\n",
    "    else :\n",
    "        return \"Open\""
   ]
  },
  {
   "cell_type": "markdown",
   "metadata": {
    "slideshow": {
     "slide_type": "slide"
    }
   },
   "source": [
    "##### Why do we need to close a file? \n",
    "1. Python does not automatically close the file. Leaving it open means that you risk overwriting information.\n",
    "1. Closing the file saves any changes to it.\n",
    "1. Depending on your computer's operating system, you may not be able to open a file simultaneously for reading and writing. <br>__Example:__ If a program attempts to open a file that is already open (has not been closed), an error may be generated.\n",
    "\n"
   ]
  },
  {
   "cell_type": "markdown",
   "metadata": {
    "slideshow": {
     "slide_type": "slide"
    }
   },
   "source": [
    "Let's try out our function."
   ]
  },
  {
   "cell_type": "code",
   "execution_count": 8,
   "metadata": {
    "slideshow": {
     "slide_type": "-"
    }
   },
   "outputs": [
    {
     "name": "stdout",
     "output_type": "stream",
     "text": [
      "File Status: Open\n",
      "File Status: Closed\n"
     ]
    }
   ],
   "source": [
    "print( \"File Status:\" , get_status(file))  \n",
    "\n",
    "file.close()\n",
    "\n",
    "print( \"File Status:\" , get_status(file))"
   ]
  },
  {
   "cell_type": "markdown",
   "metadata": {
    "slideshow": {
     "slide_type": "slide"
    }
   },
   "source": [
    "### Writing Files\n",
    "<a id='WritingFiles'></a>\n",
    "Data can be written to a files in a number of ways.\n",
    "\n",
    "This time, let's actually write some data to the file."
   ]
  },
  {
   "cell_type": "markdown",
   "metadata": {
    "slideshow": {
     "slide_type": "slide"
    }
   },
   "source": [
    "Let's first create a string to write to a text file:\n",
    "\n",
    "The inclusion of `\\n` anywhere in the string creates a line break."
   ]
  },
  {
   "cell_type": "code",
   "execution_count": 40,
   "metadata": {
    "slideshow": {
     "slide_type": "-"
    }
   },
   "outputs": [
    {
     "name": "stdout",
     "output_type": "stream",
     "text": [
      "Enter player name : \n",
      " 10\n",
      "\n"
     ]
    }
   ],
   "source": [
    "name = input(\"Enter player name : \")\n",
    "score = 10\n",
    "score_entry = f'{name} {str(score)}\\n' \n",
    "print(score_entry)"
   ]
  },
  {
   "cell_type": "markdown",
   "metadata": {
    "slideshow": {
     "slide_type": "slide"
    }
   },
   "source": [
    "A string my be *concatenated* (stuck together end to end) using the `+=` arithmetic operator.\n",
    "\n",
    "This allows us to build the string over the course of the program."
   ]
  },
  {
   "cell_type": "code",
   "execution_count": 41,
   "metadata": {
    "slideshow": {
     "slide_type": "-"
    }
   },
   "outputs": [
    {
     "name": "stdout",
     "output_type": "stream",
     "text": [
      "name : Hemma\n",
      "score : 10\n",
      "\n"
     ]
    }
   ],
   "source": [
    "text = 'name : '\n",
    "\n",
    "text += \"Hemma\\n\" \n",
    "\n",
    "text += \"score : 10\\n\"\n",
    "\n",
    "print(text)"
   ]
  },
  {
   "cell_type": "markdown",
   "metadata": {
    "slideshow": {
     "slide_type": "slide"
    }
   },
   "source": [
    "Create an object to __write__ the string to a file:  "
   ]
  },
  {
   "cell_type": "code",
   "execution_count": 42,
   "metadata": {},
   "outputs": [],
   "source": [
    "file = open(\"Examples/pong_scores.txt\", \"w\" )"
   ]
  },
  {
   "cell_type": "markdown",
   "metadata": {
    "slideshow": {
     "slide_type": "slide"
    }
   },
   "source": [
    "Write the string to the file, then close it."
   ]
  },
  {
   "cell_type": "code",
   "execution_count": 43,
   "metadata": {},
   "outputs": [],
   "source": [
    "file.write(score_entry)\n",
    "\n",
    "file.close()"
   ]
  },
  {
   "cell_type": "markdown",
   "metadata": {
    "slideshow": {
     "slide_type": "slide"
    }
   },
   "source": [
    "You can open the file using a text editor to confirm it's contents."
   ]
  },
  {
   "cell_type": "markdown",
   "metadata": {
    "slideshow": {
     "slide_type": "slide"
    }
   },
   "source": [
    "### Appending Files \n",
    "<a id='AppendingFiles'></a>\n",
    "Notice, if we write another score to the `pong_scores.txt` file, it *overwrites* the previous information..."
   ]
  },
  {
   "cell_type": "code",
   "execution_count": 47,
   "metadata": {},
   "outputs": [
    {
     "name": "stdout",
     "output_type": "stream",
     "text": [
      "Enter player name : Hemma\n"
     ]
    }
   ],
   "source": [
    "name = input(\"Enter player name : \")\n",
    "score = 20\n",
    "score_entry = f'{name} {str(score)}\\n' \n",
    "\n",
    "file = open(\"Examples/pong_scores.txt\", \"w\" )\n",
    "file.write(score_entry)\n",
    "file.close()"
   ]
  },
  {
   "cell_type": "markdown",
   "metadata": {},
   "source": [
    "__Appending__ the file writes new information to the file *without* overwriting the previous contents.\n"
   ]
  },
  {
   "cell_type": "code",
   "execution_count": 48,
   "metadata": {},
   "outputs": [
    {
     "name": "stdout",
     "output_type": "stream",
     "text": [
      "Enter player name : Tim\n"
     ]
    }
   ],
   "source": [
    "name = input(\"Enter player name : \")\n",
    "score = 20\n",
    "score_entry = f'{name} {str(score)}\\n' \n",
    "\n",
    "file = open(\"Examples/pong_scores.txt\", \"a\" )\n",
    "file.write(score_entry)\n",
    "file.close()"
   ]
  },
  {
   "cell_type": "markdown",
   "metadata": {
    "slideshow": {
     "slide_type": "slide"
    }
   },
   "source": [
    "The changes should have now been saved an will appear if you re-open the file in a text editor. "
   ]
  },
  {
   "cell_type": "markdown",
   "metadata": {
    "slideshow": {
     "slide_type": "slide"
    }
   },
   "source": [
    "This means you can update the same file by writing data at multiple points in your program."
   ]
  },
  {
   "cell_type": "code",
   "execution_count": 49,
   "metadata": {},
   "outputs": [],
   "source": [
    "# File append 1\n",
    "file = open(\"Examples/pong_scores.txt\", \"a\" )\n",
    "file.write(\"Hemma 4\\n\")\n",
    "file.close()\n",
    "\n",
    "# File append 2\n",
    "file = open(\"Examples/pong_scores.txt\", \"a\" )\n",
    "file.write(\"Farhad 15\\n\")\n",
    "file.close()\n",
    "\n",
    "# File append 3\n",
    "file = open(\"Examples/pong_scores.txt\", \"a\" )\n",
    "file.write(\"Sajid 2\\n\")\n",
    "file.close()"
   ]
  },
  {
   "cell_type": "code",
   "execution_count": 94,
   "metadata": {},
   "outputs": [],
   "source": [
    "# File append 1\n",
    "file = open(\"sample_data/appended_file.csv\", \"a\" )\n",
    "file.write('word\\n')\n",
    "file.close()\n",
    "\n",
    "# File append 2\n",
    "file = open(\"sample_data/test_now2.csv\", \"a\" )\n",
    "file.write('1, 3, 5\\n')\n",
    "file.close()\n",
    "\n",
    "# File append 3\n",
    "file = open(\"sample_data/test_now2.csv\", \"a\" )\n",
    "file.write('word\\n')\n",
    "file.write('1, 3, 5')\n",
    "file.close()"
   ]
  },
  {
   "cell_type": "markdown",
   "metadata": {
    "slideshow": {
     "slide_type": "slide"
    }
   },
   "source": [
    "## Reading Files\n",
    "<a id='ReadingFiles'></a>\n",
    "Create an object to __read__ the string from the containing file.\n",
    "<br>(Note: As we have finished using the object name `file` to open `poem.txt` for writing we can recycle it to open the file for reading)."
   ]
  },
  {
   "cell_type": "code",
   "execution_count": 50,
   "metadata": {},
   "outputs": [],
   "source": [
    "file = open(\"Examples/pong_scores.txt\", \"r\" )"
   ]
  },
  {
   "cell_type": "markdown",
   "metadata": {
    "slideshow": {
     "slide_type": "slide"
    }
   },
   "source": [
    "Read everything in the file:"
   ]
  },
  {
   "cell_type": "code",
   "execution_count": 51,
   "metadata": {},
   "outputs": [
    {
     "name": "stdout",
     "output_type": "stream",
     "text": [
      "Hemma 20\n",
      "Tim 20\n",
      "Hemma 4\n",
      "Farhad 15\n",
      "Sajid 2\n",
      "\n"
     ]
    }
   ],
   "source": [
    "print(file.read())\n",
    "file.close()"
   ]
  },
  {
   "cell_type": "markdown",
   "metadata": {
    "slideshow": {
     "slide_type": "slide"
    }
   },
   "source": [
    "Iteration can be used to quickly and efficiently read file contents line by line.\n",
    "\n",
    "In a `for` loop, the lines of a file are treated like the elements of a list.\n",
    "\n",
    "i.e. In the example below, `file` and `line` can be replaced with any variable name.\n",
    "\n"
   ]
  },
  {
   "cell_type": "code",
   "execution_count": 52,
   "metadata": {},
   "outputs": [
    {
     "name": "stdout",
     "output_type": "stream",
     "text": [
      "Hemma 20\n",
      "Tim 20\n",
      "Hemma 4\n",
      "Farhad 15\n",
      "Sajid 2\n"
     ]
    }
   ],
   "source": [
    "file = open(\"Examples/pong_scores.txt\", \"r\" )\n",
    "\n",
    "for line in file:\n",
    "    print(line, end=\"\")\n",
    "    \n",
    "file.close()"
   ]
  },
  {
   "cell_type": "markdown",
   "metadata": {
    "slideshow": {
     "slide_type": "slide"
    }
   },
   "source": [
    "We can also look at individual words of a file using `split()`.\n",
    "\n",
    "We can split the whole file:"
   ]
  },
  {
   "cell_type": "code",
   "execution_count": 55,
   "metadata": {},
   "outputs": [
    {
     "name": "stdout",
     "output_type": "stream",
     "text": [
      "['I', 'never', 'saw', 'a', 'man', 'who', 'looked', 'With', 'such', 'a', 'wistful', 'eye', 'Upon', 'that', 'little', 'tent', 'of', 'blue', 'Which', 'prisoners', 'call', 'the', 'sky', '(by', 'Oscar', 'Wilde)(by', 'Oscar', 'Wilde)']\n"
     ]
    }
   ],
   "source": [
    "file = open(\"sample_data/poem.txt\", \"r\" )\n",
    "\n",
    "print(file.read().split())\n",
    "\n",
    "file.close()"
   ]
  },
  {
   "cell_type": "markdown",
   "metadata": {
    "slideshow": {
     "slide_type": "-"
    }
   },
   "source": [
    "The items are returned as a list, so we can use a for loop to print each word in a more readable format."
   ]
  },
  {
   "cell_type": "code",
   "execution_count": 56,
   "metadata": {
    "slideshow": {
     "slide_type": "slide"
    }
   },
   "outputs": [
    {
     "name": "stdout",
     "output_type": "stream",
     "text": [
      "I never saw a man who looked With such a wistful eye Upon that little tent of blue Which prisoners call the sky (by Oscar Wilde)(by Oscar Wilde) "
     ]
    }
   ],
   "source": [
    "file = open(\"sample_data/poem.txt\", \"r\" )\n",
    "\n",
    "for word in file.read().split() :\n",
    "    print(word, end=\" \")\n",
    "    \n",
    "file.close()"
   ]
  },
  {
   "cell_type": "markdown",
   "metadata": {
    "slideshow": {
     "slide_type": "slide"
    }
   },
   "source": [
    "##### What does this code do?\n",
    ">`print(word, end=\" \")` \n",
    "\n",
    "Note that the default ending for each print statement is changed to a space. <br>Otherwise each word prints on a new line."
   ]
  },
  {
   "cell_type": "markdown",
   "metadata": {},
   "source": [
    "We can also split each line.\n",
    "\n",
    "For example, we can split the name from the score:"
   ]
  },
  {
   "cell_type": "code",
   "execution_count": 54,
   "metadata": {},
   "outputs": [
    {
     "name": "stdout",
     "output_type": "stream",
     "text": [
      "['Hemma', '20']['Tim', '20']['Hemma', '4']['Farhad', '15']['Sajid', '2']"
     ]
    }
   ],
   "source": [
    "file = open(\"Examples/pong_scores.txt\", \"r\" )\n",
    "\n",
    "for line in file:\n",
    "    print(line.split(), end=\"\")\n",
    "    \n",
    "file.close()"
   ]
  },
  {
   "cell_type": "markdown",
   "metadata": {},
   "source": [
    "##### Example  Highest scoring player: \n",
    "Find the highest score and print a message to show the highest scoring player:"
   ]
  },
  {
   "cell_type": "code",
   "execution_count": 64,
   "metadata": {},
   "outputs": [
    {
     "name": "stdout",
     "output_type": "stream",
     "text": [
      "Highest scoring player : Hemma, 20 points!!!\n"
     ]
    }
   ],
   "source": [
    "file = open(\"Examples/pong_scores.txt\", \"r\" )\n",
    "\n",
    "names = []\n",
    "scores = []\n",
    "\n",
    "for line in file:\n",
    "    i = line.split()         # split the line into names and scores\n",
    "    names.append(i[0])       # add name to names list\n",
    "    scores.append(int(i[1])) # add score to scores list\n",
    "    \n",
    "file.close()\n",
    "\n",
    "index = scores.index(max(scores)) # find index of highest score\n",
    "\n",
    "# Print a message \n",
    "print(f\"Highest scoring player : {names[index]}, {scores[index]} points!!!\")\n",
    "    \n"
   ]
  },
  {
   "cell_type": "markdown",
   "metadata": {
    "slideshow": {
     "slide_type": "slide"
    }
   },
   "source": [
    "`split` is also useful when we use the `input` function."
   ]
  },
  {
   "cell_type": "code",
   "execution_count": 67,
   "metadata": {},
   "outputs": [
    {
     "name": "stdout",
     "output_type": "stream",
     "text": [
      "enter 3 words : I love python\n"
     ]
    }
   ],
   "source": [
    "user_input = input(\"enter 3 words : \")"
   ]
  },
  {
   "cell_type": "markdown",
   "metadata": {
    "slideshow": {
     "slide_type": "slide"
    }
   },
   "source": [
    "\n",
    "The words are treated as a single string.\n",
    "\n",
    "e.g. element 0 is the first character"
   ]
  },
  {
   "cell_type": "code",
   "execution_count": 68,
   "metadata": {},
   "outputs": [
    {
     "name": "stdout",
     "output_type": "stream",
     "text": [
      "I\n"
     ]
    }
   ],
   "source": [
    "print(user_input[0])"
   ]
  },
  {
   "cell_type": "markdown",
   "metadata": {
    "slideshow": {
     "slide_type": "slide"
    }
   },
   "source": [
    "`split` allows us to access the individual words."
   ]
  },
  {
   "cell_type": "code",
   "execution_count": 69,
   "metadata": {},
   "outputs": [
    {
     "name": "stdout",
     "output_type": "stream",
     "text": [
      "I love python "
     ]
    }
   ],
   "source": [
    "for word in user_input.split() :\n",
    "    print(word, end=\" \")"
   ]
  },
  {
   "cell_type": "markdown",
   "metadata": {
    "slideshow": {
     "slide_type": "slide"
    }
   },
   "source": [
    "# Automatically Closing Files Using `with`.\n",
    "<a id='AutomaticallyClosingFileswith'></a>\n",
    "\n",
    "Notice what happens to the file `pong_scores.txt` when we run the next two lines of code:"
   ]
  },
  {
   "cell_type": "code",
   "execution_count": 70,
   "metadata": {},
   "outputs": [
    {
     "data": {
      "text/plain": [
       "8"
      ]
     },
     "execution_count": 70,
     "metadata": {},
     "output_type": "execute_result"
    }
   ],
   "source": [
    "# File append 1\n",
    "file = open(\"Examples/pong_scores.txt\", \"a\" )\n",
    "file.write(\"Hemma 4\\n\")"
   ]
  },
  {
   "cell_type": "markdown",
   "metadata": {},
   "source": [
    "Notice that if you open `pong_scores.txt` in a text editor at this stage, your changes have not appeared yet.\n",
    "\n",
    "The file contents are not updated until we run:"
   ]
  },
  {
   "cell_type": "code",
   "execution_count": 75,
   "metadata": {},
   "outputs": [],
   "source": [
    "file.close()"
   ]
  },
  {
   "cell_type": "markdown",
   "metadata": {
    "slideshow": {
     "slide_type": "slide"
    }
   },
   "source": [
    "## `with`\n",
    "\n",
    "It is good practice to use the Python `with` keyword when opening a file."
   ]
  },
  {
   "cell_type": "code",
   "execution_count": 76,
   "metadata": {},
   "outputs": [],
   "source": [
    "with open(\"Examples/pong_scores.txt\" , \"w\" ) as file :  \n",
    "    file.write(\"Hemma 4\\n\")"
   ]
  },
  {
   "cell_type": "markdown",
   "metadata": {},
   "source": [
    "Indented lines are executed.\n",
    "\n",
    "Then the file is closed. "
   ]
  },
  {
   "cell_type": "code",
   "execution_count": 77,
   "metadata": {},
   "outputs": [
    {
     "name": "stdout",
     "output_type": "stream",
     "text": [
      "File Now Closed?: False\n",
      "File Now Closed?: True\n"
     ]
    }
   ],
   "source": [
    "with open(\"Examples/pong_scores.txt\" , \"w\" ) as file :  \n",
    "    file.write(\"Hemma 4\\n\")\n",
    "    print(f\"File Now Closed?: {file.closed}\")\n",
    "    \n",
    "print(f\"File Now Closed?: {file.closed}\")\n"
   ]
  },
  {
   "cell_type": "markdown",
   "metadata": {
    "collapsed": true,
    "slideshow": {
     "slide_type": "slide"
    }
   },
   "source": [
    "## Importing Data from Delimited Text Files\n",
    "<a id='ImportingDataDelimitedTextFiles'></a>\n",
    "To read data from text files such as .csv, .txt, .dat, we can use  `numpy.load.txt`."
   ]
  },
  {
   "cell_type": "markdown",
   "metadata": {
    "slideshow": {
     "slide_type": "slide"
    }
   },
   "source": [
    "__Remember__\n",
    "<br>The file to be loaded must be in the same directory as your python program.\n",
    "<br>Otherwise you must specify the the full path to the data file using / to seperate directory names. \n",
    "<br>The filename (or path plus filename) needs to be between \"\" quotation marks. "
   ]
  },
  {
   "cell_type": "markdown",
   "metadata": {
    "slideshow": {
     "slide_type": "slide"
    }
   },
   "source": [
    "To import the data from `sample_data/data.dat`:\n",
    ">`0.000 1.053 2.105 3.158 4.211\n",
    "74.452 48.348 68.733 59.796 54.123`\n"
   ]
  },
  {
   "cell_type": "code",
   "execution_count": 49,
   "metadata": {
    "slideshow": {
     "slide_type": "slide"
    }
   },
   "outputs": [
    {
     "name": "stdout",
     "output_type": "stream",
     "text": [
      "[[ 1.053  2.105  3.158  4.211  6.065]\n",
      " [48.348 68.733 59.796 54.123 74.452]]\n",
      "<class 'numpy.ndarray'>\n"
     ]
    }
   ],
   "source": [
    "import numpy as np\n",
    "A = np.loadtxt('sample_data/sample_data.dat')\n",
    "print(A)\n",
    "print(type(A))\n"
   ]
  },
  {
   "cell_type": "markdown",
   "metadata": {},
   "source": [
    "Purely numerical data is imported as a Numpy array.\n",
    "\n",
    "This is a data structure for storing numerical values.\n",
    "\n"
   ]
  },
  {
   "cell_type": "markdown",
   "metadata": {},
   "source": [
    "Individual elements, rows or columns can be returned using the index"
   ]
  },
  {
   "cell_type": "code",
   "execution_count": 128,
   "metadata": {},
   "outputs": [
    {
     "name": "stdout",
     "output_type": "stream",
     "text": [
      "2.105\n",
      "[1.053 2.105 3.158 4.211 6.065]\n",
      "[ 2.105 68.733]\n"
     ]
    }
   ],
   "source": [
    "print(A[0][1])  # row 0, col 1\n",
    "print(A[0, :])  # row 0\n",
    "print(A[:, 1])  # col 1\n",
    "\n"
   ]
  },
  {
   "cell_type": "markdown",
   "metadata": {
    "slideshow": {
     "slide_type": "slide"
    }
   },
   "source": [
    "The __delimiter__ should (sometimes) be specified.\n",
    "\n",
    "This tells Python how to separate the data into the individual elements of an array. \n",
    "\n",
    "The default delimiter is a space.\n",
    "\n",
    "(Data separated by spaces will be automatically be assigned different indices)."
   ]
  },
  {
   "cell_type": "markdown",
   "metadata": {
    "slideshow": {
     "slide_type": "slide"
    }
   },
   "source": [
    "The __data type__ should (sometimes) be specified.\n",
    "\n",
    "This tells Python how to separate the data into the individual elements of an array. \n",
    "\n",
    "The default data type is `float`.\n",
    "\n",
    "If your data contains items that cannot be expressed as a float, importing it will cause an error unless the data-type is specified.\n",
    "\n",
    "Mixed data types can be imported as `string` values. "
   ]
  },
  {
   "cell_type": "markdown",
   "metadata": {
    "slideshow": {
     "slide_type": "slide"
    }
   },
   "source": [
    "Data in `sample_data/sample_student_data.txt`:\n",
    "- __delimiter__ : tab (`/t`) \n",
    "- __data type__ : string (float in some columns)\n",
    "\n",
    "```Python\n",
    "Subject\tSex\tDOB\tHeight\tWeight\tBP\n",
    "(ID)\tM/F\tdd/mm/yy\tm\tkg\tmmHg\n",
    "JW-1\tM\t19/12/1995\t1.82\t92.4\t119/76\n",
    "JW-2\tM\t11/01/1996\t1.77\t80.9\t114/73\n",
    "JW-3\tF\t02/10/1995\t1.68\t69.7\t124/79\n",
    "JW-6\tM\t06/07/1995\t1.72\t75.5\t110/60\n",
    "JW-7\tF\t28/03/1996\t1.66\t72.4\t-\n",
    "JW-9\tF\t11/12/1995\t1.78\t82.1\t115/75\n",
    "JW-10\tF\t07/04/1996\t1.6\t45\t-/-\n",
    "JW-11\tM\t22/08/1995\t1.72\t77.2\t97/63\n",
    "JW-12\tM\t23/05/1996\t1.83\t88.9\t105/70\n",
    "JW-14\tF\t12/01/1996\t1.56\t56.3\t108/72\n",
    "JW-15\tF\t01/06/1996\t1.64\t65\t99/67\n",
    "JW-16\tM\t10/09/1995\t1.63\t73\t131/84\n",
    "JW-17\tM\t17/02/1996\t1.67\t89.8\t101/76\n",
    "JW-18\tM\t31/07/1996\t1.66\t75.1\t-/-\n",
    "JW-19\tF\t30/10/1995\t1.59\t67.3\t103/69\n",
    "JW-22\tF\t09/03/1996\t1.7\t45\t119/80\n",
    "JW-23\tM\t15/05/1995\t1.97\t89.2\t124/82\n",
    "JW-24\tF\t01/12/1995\t1.66\t63.8\t100/78\n",
    "JW-25\tF\t25/10/1995\t1.63\t64.4\t-/-\n",
    "JW-26\tM\t17/04/1996\t1.69\t55\t121/82\n",
    "```"
   ]
  },
  {
   "cell_type": "code",
   "execution_count": 129,
   "metadata": {
    "slideshow": {
     "slide_type": "slide"
    }
   },
   "outputs": [
    {
     "data": {
      "text/plain": [
       "array([['Student', 'Sex', 'DOB', 'Height', 'Weight', 'BP'],\n",
       "       ['(ID)', 'M/F', 'dd/mm/yy', 'm', 'kg', 'mmHg'],\n",
       "       ['JW-1', 'M', '19/12/1995', '1.82', '92.4', '119/76'],\n",
       "       ['JW-2', 'M', '11/01/1996', '1.77', '80.9', '114/73'],\n",
       "       ['JW-3', 'F', '02/10/1995', '1.68', '69.7', '124/79'],\n",
       "       ['JW-4', 'M', '11/01/1996', '1.77', '80.9', '114/73'],\n",
       "       ['JW-5', 'F', '02/10/1995', '1.68', '69.7', '124/79'],\n",
       "       ['JW-6', 'M', '06/07/1995', '1.72', '75.5', '110/60'],\n",
       "       ['JW-7', 'F', '28/03/1996', '1.66', '72.4', '-'],\n",
       "       ['JW-9', 'F', '11/12/1995', '1.78', '82.1', '115/75'],\n",
       "       ['JW-10', 'F', '07/04/1996', '1.6', '45', '-/-'],\n",
       "       ['JW-11', 'M', '22/08/1995', '1.72', '77.2', '97/63'],\n",
       "       ['JW-12', 'M', '23/05/1996', '1.83', '88.9', '105/70'],\n",
       "       ['JW-14', 'F', '12/01/1996', '1.56', '56.3', '108/72'],\n",
       "       ['JW-15', 'F', '01/06/1996', '1.64', '65', '99/67'],\n",
       "       ['JW-16', 'M', '10/09/1995', '1.63', '73', '131/84'],\n",
       "       ['JW-17', 'M', '17/02/1996', '1.67', '89.8', '101/76'],\n",
       "       ['JW-18', 'M', '31/07/1996', '1.66', '75.1', '-/-'],\n",
       "       ['JW-19', 'F', '30/10/1995', '1.59', '67.3', '103/69'],\n",
       "       ['JW-22', 'F', '09/03/1996', '1.7', '45', '119/80'],\n",
       "       ['JW-23', 'M', '15/05/1995', '1.97', '89.2', '124/82'],\n",
       "       ['JW-24', 'F', '01/12/1995', '1.66', '63.8', '100/78'],\n",
       "       ['JW-25', 'F', '25/10/1995', '1.63', '64.4', '-/-'],\n",
       "       ['JW-26', 'M', '17/04/1996', '1.69', '55', '121/82']], dtype='<U10')"
      ]
     },
     "execution_count": 129,
     "metadata": {},
     "output_type": "execute_result"
    }
   ],
   "source": [
    "np.loadtxt('sample_data/sample_student_data.txt', delimiter=\"\\t\", dtype=str)\n",
    "\n"
   ]
  },
  {
   "cell_type": "markdown",
   "metadata": {
    "slideshow": {
     "slide_type": "slide"
    }
   },
   "source": [
    "Regions can be selected, for example to select only numerical data. \n",
    "\n",
    "`skiprows` skips the first n lines. \n",
    "\n",
    "`usecols` specifies which columns to read, with 0 being the first. \n",
    "\n",
    "`usecols = (1, 4, 5)` : extracts the 2nd, 5th and 6th columns.\n",
    "<br>`usecols = (3, 4)` : extracts the 4th and 5th columns (height and weight data)."
   ]
  },
  {
   "cell_type": "code",
   "execution_count": 50,
   "metadata": {
    "slideshow": {
     "slide_type": "slide"
    }
   },
   "outputs": [
    {
     "name": "stdout",
     "output_type": "stream",
     "text": [
      "[[ 1.78 82.1 ]\n",
      " [ 1.6  45.  ]\n",
      " [ 1.72 77.2 ]\n",
      " [ 1.83 88.9 ]\n",
      " [ 1.56 56.3 ]\n",
      " [ 1.64 65.  ]\n",
      " [ 1.63 73.  ]\n",
      " [ 1.67 89.8 ]\n",
      " [ 1.66 75.1 ]\n",
      " [ 1.59 67.3 ]\n",
      " [ 1.7  45.  ]\n",
      " [ 1.97 89.2 ]\n",
      " [ 1.66 63.8 ]\n",
      " [ 1.63 64.4 ]\n",
      " [ 1.69 55.  ]]\n"
     ]
    }
   ],
   "source": [
    "students = np.loadtxt('sample_data/sample_student_data.txt', skiprows=9, usecols=(3,4))\n",
    "print(students)\n",
    "\n"
   ]
  },
  {
   "cell_type": "markdown",
   "metadata": {
    "slideshow": {
     "slide_type": "slide"
    }
   },
   "source": [
    "You can now use the imported data as a regular Numpy array.\n",
    "\n"
   ]
  },
  {
   "cell_type": "code",
   "execution_count": 51,
   "metadata": {
    "scrolled": false,
    "slideshow": {
     "slide_type": "slide"
    }
   },
   "outputs": [
    {
     "data": {
      "image/png": "[encoded data removed]",
      "text/plain": [
       "<Figure size 432x288 with 1 Axes>"
      ]
     },
     "metadata": {},
     "output_type": "display_data"
    }
   ],
   "source": [
    "# Use indexing to select which ROWS and which COLUMNS to plot\n",
    "plt.plot(students[:, 0], students[:, 1], 'rx', label=\"students\")\n",
    "\n",
    "# Legend\n",
    "plt.legend(loc='best', fontsize=12)\n",
    "\n",
    "# Axes labels\n",
    "plt.xlabel('Height (m)', fontsize=12)\n",
    "plt.ylabel('Weight (kg)', fontsize=12)\n",
    "\n",
    "# Title\n",
    "plt.title(\"Height to weight relationship for students in class A\", fontsize=18);\n",
    "\n"
   ]
  },
  {
   "cell_type": "markdown",
   "metadata": {
    "collapsed": true,
    "slideshow": {
     "slide_type": "slide"
    }
   },
   "source": [
    "# Summary\n",
    "<a id='Summary'></a>\n",
    "- Storing functions and variables in seperate files and importing them for use can keep your program organised and tidy.\n",
    "- The keyword `import` is used to call functions and variables from other files in your program.\n",
    "- Files in the same directory can be 'seen' by the file and imoported directly.\n",
    "- Files in other directories must be added to the Python path. \n",
    "- An un-named function can be created using the `lamda` keyword."
   ]
  },
  {
   "cell_type": "markdown",
   "metadata": {
    "slideshow": {
     "slide_type": "slide"
    }
   },
   "source": [
    "<a id='TestYourselfExercises'></a>\n",
    "# Review Exercises\n",
    "\n",
    "Compete the Test-Youself exercises below.\n",
    "\n",
    "Save your answers as .py files and email them to:\n",
    "<br>philamore.hemma.5s@kyoto-u.ac.jp"
   ]
  },
  {
   "cell_type": "markdown",
   "metadata": {
    "slideshow": {
     "slide_type": "slide"
    }
   },
   "source": [
    "# Review Exercise: User-defined Library\n",
    "1. Open the pong program in Spyder. \n",
    "1. Create a new file called `config.py` in the same folder as the pong program.\n",
    "1. Move the functions you have written in the pong program to `config.py`.\n",
    "1. Import functions and variables to the pong program. "
   ]
  },
  {
   "cell_type": "code",
   "execution_count": null,
   "metadata": {},
   "outputs": [],
   "source": []
  }
 ],
 "metadata": {
  "celltoolbar": "Slideshow",
  "kernelspec": {
   "display_name": "Python 3",
   "language": "python",
   "name": "python3"
  },
  "language_info": {
   "codemirror_mode": {
    "name": "ipython",
    "version": 3
   },
   "file_extension": ".py",
   "mimetype": "text/x-python",
   "name": "python",
   "nbconvert_exporter": "python",
   "pygments_lexer": "ipython3",
   "version": "3.6.5"
  }
 },
 "nbformat": 4,
 "nbformat_minor": 2
}
