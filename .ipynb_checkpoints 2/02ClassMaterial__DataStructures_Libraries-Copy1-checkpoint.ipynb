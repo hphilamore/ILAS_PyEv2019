{
 "cells": [
  {
   "cell_type": "markdown",
   "metadata": {
    "slideshow": {
     "slide_type": "slide"
    }
   },
   "source": [
    "# Please download the new class notes.\n",
    "### Step 1 : Navigate to the directory where your files are stored.  \n",
    "Open a terminal. \n",
    "\n",
    "Using `cd`, navigate to *inside* the ILAS_Python_for_everyone folder on your computer. \n",
    "\n",
    "### Step 3 : Update the course notes by downloading the changes\n",
    "In the terminal type:\n",
    "\n",
    ">`git add -A`\n",
    "\n",
    ">`git commit -m \"commit\"`\n",
    "\n",
    ">`git fetch upstream`\n",
    "\n",
    ">`git merge -X theirs upstream/master`\n"
   ]
  },
  {
   "cell_type": "markdown",
   "metadata": {
    "collapsed": true,
    "slideshow": {
     "slide_type": "slide"
    }
   },
   "source": [
    "# Introduction to Data Structures and Imported Libraries (Pygame)\n",
    "\n",
    "<br> <a href='#DataStructures'>Data Structures</a>\n",
    "<br> <a href='#Lists'>Lists</a> \n",
    "\t<br> &emsp;&emsp; <a href='#Indexing'>__Indexing__</a> \n",
    "    <br> &emsp;&emsp; <a href='#MutipleUserInputs'>Multiple User Inputs</a> \n",
    "\t<br> &emsp;&emsp; <a href='#ManipulatingLists'>Manipulating Lists</a> \n",
    "\t<br> &emsp;&emsp; &emsp;&emsp; <a href='#FindingLengthList'>FindingLengthList</a> \n",
    "    <br> &emsp;&emsp; &emsp;&emsp; <a href='#SortingLists'>SortingLists</a> \n",
    "    <br> &emsp;&emsp; &emsp;&emsp; <a href='#RemovingItemList'>Removing an Item from a List</a> \n",
    "    <br> &emsp;&emsp; &emsp;&emsp; <a href='#AddingItemList'>Adding an Item to a List</a> \n",
    "    <br> &emsp;&emsp; &emsp;&emsp; <a href='#ChangingListEntry'>Changing a List Entry</a> \n",
    "\t<br> &emsp;&emsp; <a href='#NestedDataStructures'>__Nested Data Structures__</a> \n",
    "\t<br> &emsp;&emsp; <a href='#IteratingLists'>__Iterating over Lists__</a> \n",
    "    <br> &emsp;&emsp; <a href='#IndexingIterating'>__Indexing when Iterating over Lists__</a> \n",
    "\t<br> &emsp;&emsp; <a href='#enumerate'>`enumerate`</a> \n",
    "    <br> &emsp;&emsp; <a href='#zip'>__`zip`__</a> \n",
    "\t<br> &emsp;&emsp; <a href='#ExampleChangingPosition'>__Example: Changing Position__ </a> \n",
    "<br> <a href='#Libraries'>Libraries</a> \n",
    "    <br> &emsp;&emsp; <a href='#StandardLibrary'>__The Standard Library__</a> \n",
    "\t<br> &emsp;&emsp; <a href='#Packages'>__Packages__ </a> \n",
    "        <br> &emsp;&emsp; &emsp;&emsp; <a href='#ImportingPackage'>__Importing a Package__</a> \n",
    "        <br> &emsp;&emsp; &emsp;&emsp; <a href='#PackageFunctions'>__Using Package Functions__</a> \n",
    "        <br> &emsp;&emsp; &emsp;&emsp; <a href='#ReadingFunctionDocumentation'>__Reading Function Documentation__</a> \n",
    "        <br> &emsp;&emsp; &emsp;&emsp; <a href='#Examplemathpow'>__Example: `math.pow`__</a> \n",
    "        <br> &emsp;&emsp; &emsp;&emsp; <a href='#Namespaces'>Namespaces</a> \n",
    "        <br> &emsp;&emsp; &emsp;&emsp; <a href='#ImportingFunction'>__Importing a Function__</a> \n",
    "    <br> &emsp;&emsp; <a href='#Optimise'>__Using Package Functions to Optimise your Code__</a> \n",
    "     <br> &emsp;&emsp; <a href='#DataStructuresFunctionArguments'>__Data Structures as Function Arguments__</a> \n",
    "<br> <a href='#StackingFunctions'>__Stacking Functions__</a>\n",
    "<br> <a href='#StackingFunctions'>__Installing Pygame__</a>\n",
    "<br> <a href='#Summary'>Summary</a> \n",
    "<br> <a href='#Test-YourselfExercises'>Test-Yourself Exercises</a> \n",
    "<br> <a href='#ReviewExercises'>Review Exercises</a> \n",
    "\n",
    "\n",
    "\n",
    "\n"
   ]
  },
  {
   "cell_type": "markdown",
   "metadata": {},
   "source": [
    "<a id='Summary'></a>\n",
    "# Summary of Information Needed to Understand Today's Examples\n",
    "For more information refer to the Primer Notebooks for this class __02ClassMaterial__DataStructures_Libraries.ipynb__\n",
    "\n",
    "\n",
    "###### Data Structures\n",
    "\n",
    "- Python has an extensive __standard library__ of built-in functions. \n",
    "- More specialised libraries of functions and constants are available. We call these __packages__. \n",
    "- Packages are imported using the keyword `import`\n",
    "- The function documentation tells is what it does and how to use it.\n",
    "- When calling a library function it must be prefixed with a __namespace__ is used to show from which package it should be called.  \n",
    "- The magic function `%timeit` can be used to time the execution of a function. \n",
    "\n"
   ]
  },
  {
   "cell_type": "markdown",
   "metadata": {},
   "source": [
    "###### Libraries\n",
    "- Python has an extensive __standard library__ of built-in functions. \n",
    "- More specialised libraries of functions and constants are available. We call these __packages__. \n",
    "- Packages are imported using the keyword `import`\n",
    "- The function documentation tells is what it does and how to use it.\n",
    "- When calling a library function it must be prefixed with a __namespace__ is used to show from which package it should be called.  \n",
    "- The magic function `%timeit` can be used to time the execution of a function. "
   ]
  },
  {
   "cell_type": "markdown",
   "metadata": {
    "slideshow": {
     "slide_type": "slide"
    }
   },
   "source": [
    "### Lesson Goal\n",
    "\n",
    "- Build a guessing game.\n",
    "- Build the game 0 and Xs or tic-tac-toe.\n",
    "\n",
    "<p align=\"center\">\n",
    "  <img src=\"img/noughts_and_crosses.jpg\" alt=\"Drawing\" style=\"width: 300px;\"/>\n",
    "</p>\n",
    "\n",
    "\n",
    "\n",
    "### Fundamental programming concepts\n",
    " - Importing existing code to use in your program\n",
    " - Storing and representing data e.g. a grid with 0 and X in each grid cell"
   ]
  },
  {
   "cell_type": "markdown",
   "metadata": {
    "slideshow": {
     "slide_type": "slide"
    }
   },
   "source": [
    "<a id='DataStructures'></a>\n",
    "## Data Structures\n",
    "\n",
    "In the last seminar we learnt to generate a range of numbers for use in control flow of  a program, using the function `range()`:\n",
    "\n",
    "\n",
    "       for j in range(20):\n",
    "           ...\n",
    "    \n",
    "        \n",
    "Often we want to manipulate data that is more meaningful than ranges of numbers.\n",
    "\n",
    "These collections of variables might include:\n",
    " - the results of an experiment\n",
    " - a list of names\n",
    " - the components of a vector\n",
    " - a telephone directory with names and associated numbers.\n",
    "    "
   ]
  },
  {
   "cell_type": "markdown",
   "metadata": {
    "slideshow": {
     "slide_type": "slide"
    }
   },
   "source": [
    "Python has different __data structures__ that can be used to store and manipulate these values.\n",
    "\n",
    "Like variable types (`string`, `int`,`float`...) different data structures behave in different ways.\n",
    "\n",
    "Today we will learn to use `list`s "
   ]
  },
  {
   "cell_type": "markdown",
   "metadata": {
    "collapsed": true,
    "slideshow": {
     "slide_type": "slide"
    }
   },
   "source": [
    "A list is a container with compartments in which we can store data:\n",
    "<p align=\"center\">\n",
    "  <img src=\"img/ice_cube_tray.png\" alt=\"Drawing\" style=\"width: 500px;\"/>\n",
    "</p>"
   ]
  },
  {
   "cell_type": "markdown",
   "metadata": {
    "slideshow": {
     "slide_type": "slide"
    }
   },
   "source": [
    "Example\n",
    "\n",
    "If we want to store the names of students in a laboratory group, \n",
    "rather than representing each students using an individual string variable, we could use a list of names. \n",
    "\n"
   ]
  },
  {
   "cell_type": "code",
   "execution_count": 1,
   "metadata": {},
   "outputs": [
    {
     "name": "stdout",
     "output_type": "stream",
     "text": [
      "['Sarah', 'John', 'Joe', 'Emily']\n",
      "['Roger', 'Rachel', 'Amer', 'Caroline', 'Colin']\n"
     ]
    }
   ],
   "source": [
    "lab_group0 = [\"Yukari\", \"Sajid\", \"Hemma\", \"Ayako\"]\n",
    "lab_group1 = [\"Sara\", \"Mari\", \"Quang\", \"Sam\", \"Ryo\", \"Nao\", \"Takashi\"]\n",
    "\n",
    "print(lab_group0)\n",
    "print(lab_group1)"
   ]
  },
  {
   "cell_type": "markdown",
   "metadata": {
    "slideshow": {
     "slide_type": "slide"
    }
   },
   "source": [
    "This is useful because we can perform operations on lists such as:\n",
    " - checking its length (number of students in a lab group)\n",
    " - sorting the names in the list into alphabetical order\n",
    " - making a list of lists (we call this a *nested list*):\n"
   ]
  },
  {
   "cell_type": "code",
   "execution_count": 2,
   "metadata": {
    "collapsed": true
   },
   "outputs": [],
   "source": [
    "lab_groups = [lab_group0, lab_group1]"
   ]
  },
  {
   "cell_type": "markdown",
   "metadata": {
    "slideshow": {
     "slide_type": "slide"
    }
   },
   "source": [
    "<a id='ExampleChangePosition'></a>\n",
    "### Example: Change in Position: (Representing Vectors using Lists)\n",
    "\n",
    "__Vector:__ A quantity with magnitude and direction."
   ]
  },
  {
   "cell_type": "markdown",
   "metadata": {
    "slideshow": {
     "slide_type": "slide"
    }
   },
   "source": [
    "The position of a point in 2D space (e.g. the position of a character in a game), can be expressed in terms of horizontal (x) and vertical (y) conrdinates. \n",
    "\n",
    "The movement to a new position can be expressed as a change in x and y. \n",
    "\n",
    "This change is known as the velocity with which the point moves. \n",
    "\n",
    "<img src=\"img/schiffman_velocity_vector.png\" alt=\"Drawing\" style=\"width: 700px;\"/>\n",
    "\n",
    "[Daniel Schiffman, The Nature of Code]\n"
   ]
  },
  {
   "cell_type": "markdown",
   "metadata": {
    "slideshow": {
     "slide_type": "slide"
    }
   },
   "source": [
    "We can conveniently express the position $\\mathbf{r}$ in matrix (or basis vector) form using the coefficients $x$ and  $y$: \n",
    "$$\n",
    "\\mathbf{r} = [r_x, r_y]\n",
    "$$\n",
    "\n",
    "\n",
    "__...which looks a lot like a Python list!__\n"
   ]
  },
  {
   "cell_type": "markdown",
   "metadata": {
    "slideshow": {
     "slide_type": "slide"
    }
   },
   "source": [
    "When we move a character in a game, we change it's position. \n",
    "<br>The change in position with each time-step is the __velocity__ of the character.\n",
    "\n",
    "$$\n",
    "\\mathbf{v} = [v_x, v_y]\n",
    "$$\n",
    "\n"
   ]
  },
  {
   "cell_type": "markdown",
   "metadata": {
    "slideshow": {
     "slide_type": "slide"
    }
   },
   "source": [
    "To get the position at the next time step we simply add the x and y component of the veclocity to the x and y component of the initial position vector:\n",
    "\n",
    " <img src=\"img/schiffman_vector.png\" alt=\"Drawing\" style=\"width: 800px;\"/>\n",
    " \n",
    "\n",
    "\n",
    "\\begin{align}\n",
    "      {\\displaystyle {\\begin{aligned}\\ \n",
    "      \\mathbf{r}(t=t+1)\n",
    "      &=\\mathbf{r} + \\mathbf{v}\\\\\n",
    "      &=[(r_x(t)+v_x),\\;\\;   (r_y(t)+v_y)] \\\\ \\end{aligned}}} \n",
    "\\end{align}\n",
    "\n"
   ]
  },
  {
   "cell_type": "markdown",
   "metadata": {
    "slideshow": {
     "slide_type": "slide"
    }
   },
   "source": [
    "For example, let's find the position at the next timestep where:\n",
    " - initial position,  $\\mathbf{r} = [5, 2]$\n",
    " - velocity,  $\\mathbf{v} = [3, 4]$\n",
    " \n",
    " <img src=\"img/schiffman_vector.png\" alt=\"Drawing\" style=\"width: 500px;\"/>\n",
    " \n",
    " [Daniel Schiffman, The Nature of Code]"
   ]
  },
  {
   "cell_type": "code",
   "execution_count": 2,
   "metadata": {},
   "outputs": [],
   "source": [
    "# Example: Change in Position\n"
   ]
  },
  {
   "cell_type": "code",
   "execution_count": 1,
   "metadata": {},
   "outputs": [
    {
     "name": "stdout",
     "output_type": "stream",
     "text": [
      "[8, 6]\n"
     ]
    }
   ],
   "source": [
    "# Example Solution: Change in Position\n",
    "\n",
    "r = [5, 2]\n",
    "v = [3, 4]\n",
    "\n",
    "r = [r[0] + v[0], \n",
    "     r[1] + v[1]]\n",
    "\n",
    "print(r)"
   ]
  },
  {
   "cell_type": "markdown",
   "metadata": {},
   "source": [
    "(Solution in 02_DataStructures_LibraryFunctions_SOLS.ipynb)"
   ]
  },
  {
   "cell_type": "markdown",
   "metadata": {
    "slideshow": {
     "slide_type": "slide"
    }
   },
   "source": [
    "Arranging the code on seperate lines:\n",
    " - makes the code more readable\n",
    " - does not effect how the code works\n",
    " \n",
    "Line breaks can only be used within code that is enclosed by at elast one set of brackets (), []. "
   ]
  },
  {
   "cell_type": "markdown",
   "metadata": {
    "slideshow": {
     "slide_type": "slide"
    }
   },
   "source": [
    "__Check Your Solution:__ \n",
    "\n",
    "\n",
    "$ \\mathbf{r} = [5, 2]$\n",
    "<br> $ \\mathbf{v} = [3, 4]$\n",
    "\n",
    "\n",
    "\\begin{align}\n",
    "      {\\displaystyle {\\begin{aligned}\\ \n",
    "      \\mathbf{r} + \\mathbf{v}\n",
    "      &=[5, 2]+ [3, 4]\\\\\n",
    "      &=[(5+3), \\quad (2+4)] \\\\\n",
    "      & = [8, 6] \\end{aligned}}} \n",
    "\\end{align}"
   ]
  },
  {
   "cell_type": "markdown",
   "metadata": {
    "slideshow": {
     "slide_type": "slide"
    }
   },
   "source": [
    "<a id='ExampleTicTacToe'></a>\n",
    "## Example : Tic-tac-toe\n",
    "A list of lists can be used to represent a discrete set of positions the a player can occupy.\n",
    "\n",
    "<br>For example, we can construct a very primitive version of the game tic-tac-toe, using a list of lists and some of the other porgramming skills we have learned so far.\n",
    "\n",
    "This example will combine the topics we have studied so far.\n",
    "\n",
    "<p align=\"center\">\n",
    "  <img src=\"img/noughts_and_crosses.jpg\" alt=\"Drawing\" style=\"width: 300px;\"/>\n",
    "</p>"
   ]
  },
  {
   "cell_type": "code",
   "execution_count": null,
   "metadata": {},
   "outputs": [],
   "source": [
    "# tic-tac-toe "
   ]
  },
  {
   "cell_type": "code",
   "execution_count": null,
   "metadata": {
    "slideshow": {
     "slide_type": "slide"
    }
   },
   "outputs": [],
   "source": [
    "# tic-tac-toe \n",
    "# Example solution\n",
    "\n",
    "# # use a for loop to set-up the 3x3 grid \n",
    "board = []\n",
    "for row in range(3):\n",
    "    #board.append(['_', '_', '_'])\n",
    "    board.append(['_']*3)\n",
    "    \n",
    "    \n",
    "# display the output nicely       \n",
    "for row in board:\n",
    "    for column in row:\n",
    "        print(column, end='\\t')\n",
    "    # new line at end of row\n",
    "    print() \n",
    "\n",
    "    \n",
    "# choose who goes first, X or 0    \n",
    "player = 'X'\n",
    "\n",
    "# keep playing the game until told to quit\n",
    "while(1):\n",
    "    # use if and else to take turns at adding input from each player to the board\n",
    "    if player == 'X':\n",
    "        position = input('Player X, choose position: ')\n",
    "        board[int(position[0])][int(position[1])] = 'X'\n",
    "        player = '0'\n",
    "        \n",
    "    else: \n",
    "        position = input('Player 0, choose position: ')\n",
    "        board[int(position[0])][int(position[1])] = '0'\n",
    "        player = 'X'\n",
    "        \n",
    "        \n",
    "    #board[int(position[0])][int(position[1])] = player\n",
    "        \n",
    "    \n",
    "    # display the output nicely       \n",
    "    for row in board:\n",
    "        for column in row:\n",
    "            print(column, end='\\t')\n",
    "        # new line at end of row\n",
    "        print() \n",
    "        \n",
    "    print('\\nnext turn \\n')\n",
    "        \n",
    "        \n",
    "    game_over = input('Game over?(Y/N): ')\n",
    "    if game_over == 'Y':\n",
    "        break"
   ]
  },
  {
   "cell_type": "markdown",
   "metadata": {
    "slideshow": {
     "slide_type": "slide"
    }
   },
   "source": [
    "<a id='Libraries'></a>\n",
    "## Libraries\n",
    "\n",
    "One of the most important concepts in good programming is to reuse code and avoid repetitions.\n",
    "\n",
    "Python, like other modern programming languages, has an extensive *library* of built-in functions. \n",
    "\n",
    "These functions are designed, tested and optimised by the developers of the Python langauge.  \n",
    "\n",
    "We can use these functions to make our code shorter, faster and more reliable.\n",
    "\n",
    "   "
   ]
  },
  {
   "cell_type": "markdown",
   "metadata": {
    "slideshow": {
     "slide_type": "slide"
    }
   },
   "source": [
    "<a id='StandardLibrary'></a>\n",
    "## The Standard Library\n",
    "\n",
    "Python has a large standard library. \n",
    "\n",
    "e.g. `print()` takes the __input__ in the parentheses and __outputs__ a visible representation.\n",
    "\n",
    "They are listed on the Python website:\n",
    "https://docs.python.org/3/library/functions.html"
   ]
  },
  {
   "cell_type": "markdown",
   "metadata": {
    "collapsed": true,
    "slideshow": {
     "slide_type": "slide"
    }
   },
   "source": [
    "We could write our own code to find the minimum of a group of numbers\n",
    "\n",
    "\n"
   ]
  },
  {
   "cell_type": "code",
   "execution_count": 41,
   "metadata": {},
   "outputs": [
    {
     "name": "stdout",
     "output_type": "stream",
     "text": [
      "1\n"
     ]
    }
   ],
   "source": [
    "x0 = 1\n",
    "x1 = 2\n",
    "x2 = 4\n",
    "\n",
    "x_min = x0\n",
    "if x1 < x_min:\n",
    "    x_min = x1\n",
    "if x2 < x_min:\n",
    "    x_min = x2\n",
    "        \n",
    "print(x_min)"
   ]
  },
  {
   "cell_type": "markdown",
   "metadata": {
    "slideshow": {
     "slide_type": "slide"
    }
   },
   "source": [
    "However, it is much faster to use the build in function:"
   ]
  },
  {
   "cell_type": "code",
   "execution_count": 42,
   "metadata": {},
   "outputs": [
    {
     "name": "stdout",
     "output_type": "stream",
     "text": [
      "1\n"
     ]
    }
   ],
   "source": [
    "print(min(1,2,4))"
   ]
  },
  {
   "cell_type": "markdown",
   "metadata": {
    "slideshow": {
     "slide_type": "slide"
    }
   },
   "source": [
    "The built-in functions can be found in (.py) files called 'modules'.\n",
    "\n",
    "The files are neatly arranged into a system of __sub-packages__ (sub-folders) and __modules__ (files).\n",
    "\n",
    "These files are stored on the computer you are using."
   ]
  },
  {
   "cell_type": "markdown",
   "metadata": {
    "slideshow": {
     "slide_type": "slide"
    }
   },
   "source": [
    "A quick google search for \"python function to sum all the numbers in a list\"...\n",
    "\n",
    "https://www.google.co.jp/search?q=python+function+to+sum+all+the+numbers+in+a+list&rlz=1C5CHFA_enJP751JP751&oq=python+function+to+sum+&aqs=chrome.0.0j69i57j0l4.7962j0j7&sourceid=chrome&ie=UTF-8\n",
    "\n",
    "...returns the function `sum()`."
   ]
  },
  {
   "cell_type": "markdown",
   "metadata": {
    "slideshow": {
     "slide_type": "slide"
    }
   },
   "source": [
    "`sum()` finds the sum of the values in a data structure.\n",
    "\n",
    "\n",
    "\n"
   ]
  },
  {
   "cell_type": "code",
   "execution_count": 43,
   "metadata": {
    "slideshow": {
     "slide_type": "slide"
    }
   },
   "outputs": [
    {
     "name": "stdout",
     "output_type": "stream",
     "text": [
      "15\n",
      "15\n",
      "15\n"
     ]
    }
   ],
   "source": [
    "print(sum([1,2,3,4,5]))\n",
    "\n",
    "print(sum((1,2,3,4,5)))\n",
    "\n",
    "a = [1,2,3,4,5]\n",
    "print(sum(a))"
   ]
  },
  {
   "cell_type": "markdown",
   "metadata": {
    "slideshow": {
     "slide_type": "slide"
    }
   },
   "source": [
    "The function `max()` finds the maximum value in data structure."
   ]
  },
  {
   "cell_type": "markdown",
   "metadata": {
    "slideshow": {
     "slide_type": "slide"
    }
   },
   "source": [
    "<a id='Packages'></a>\n",
    "## Packages\n",
    "\n",
    "The standard library tools are available in any Python environment.\n",
    "\n",
    "More specialised libraries, called packages, are available for more specific tasks \n",
    "<br>e.g. solving trigonometric functions.\n",
    "\n",
    "Packages contain functions and constants.  \n",
    "\n",
    "We install the packages to use them.   \n",
    "\n"
   ]
  },
  {
   "cell_type": "markdown",
   "metadata": {
    "slideshow": {
     "slide_type": "slide"
    }
   },
   "source": [
    "__Pygame__\n",
    "<br>For a large part of this course we will use functions from a package called `Pygame`.\n",
    "<br>`Pygame` is a set of Python modules designed for writing computer games, graphics and sound projects. \n",
    "<br>Instructions for how install pygame will be given later in today's seminar.\n",
    "\n",
    "__math__\n",
    "<br>`math` is already installed and allows you to use convenient mathematical functions and operators.\n",
    "\n",
    " \n",
    "\n",
    "A package is a collection of Python modules: \n",
    "- a __module__ is a single Python file\n",
    "- a __package__ is a directory of Python modules.<br>(It contains an __init__.py file, to distinguish it from folders that are not libraries)."
   ]
  },
  {
   "cell_type": "markdown",
   "metadata": {
    "slideshow": {
     "slide_type": "slide"
    }
   },
   "source": [
    "The files that are stored on your computer when Pygame is installed:\n",
    "<br>https://github.com/pygame/pygame"
   ]
  },
  {
   "cell_type": "markdown",
   "metadata": {
    "slideshow": {
     "slide_type": "slide"
    }
   },
   "source": [
    "<a id='ImportingPackage'></a>\n",
    "### Importing a Package\n",
    "\n",
    "To use an installed package, we  simply `import` it. "
   ]
  },
  {
   "cell_type": "code",
   "execution_count": 44,
   "metadata": {
    "slideshow": {
     "slide_type": "-"
    }
   },
   "outputs": [
    {
     "name": "stdout",
     "output_type": "stream",
     "text": [
      "0.5403023058681398\n",
      "3.141592653589793\n"
     ]
    }
   ],
   "source": [
    "import math \n",
    "\n",
    "x = 1\n",
    "\n",
    "y = math.cos(x)\n",
    "\n",
    "print(y)\n",
    "\n",
    "print(math.pi)"
   ]
  },
  {
   "cell_type": "markdown",
   "metadata": {
    "slideshow": {
     "slide_type": "slide"
    }
   },
   "source": [
    "The `import` statement must appear before the use of the package in the code.  \n",
    "\n",
    "        import math \n",
    "\n",
    "After this, any function in `math` can be called as:\n",
    "\n",
    "        `math.function()`\n",
    "        \n",
    "and, any constant in `math` can be called as:\n",
    "\n",
    "        `math.constant`.\n",
    "\n",
    "There are a many mathematical functions available. <br>\n",
    "https://docs.python.org/3/library/math.html"
   ]
  },
  {
   "cell_type": "markdown",
   "metadata": {
    "slideshow": {
     "slide_type": "slide"
    }
   },
   "source": [
    "We only need to import a package once, at the start of the program or notebook."
   ]
  },
  {
   "cell_type": "markdown",
   "metadata": {
    "slideshow": {
     "slide_type": "slide"
    }
   },
   "source": [
    "<a id='UsingPackageFunctions'></a>\n",
    "## Using Package Functions. \n",
    "\n",
    "Let's learn to use `math` functions in our programs...\n",
    "\n",
    "\n",
    "\n"
   ]
  },
  {
   "cell_type": "code",
   "execution_count": 45,
   "metadata": {
    "slideshow": {
     "slide_type": "slide"
    }
   },
   "outputs": [
    {
     "name": "stdout",
     "output_type": "stream",
     "text": [
      "0.8414709848078965\n",
      "1.5574077246549023\n",
      "0.7853981633974483\n"
     ]
    }
   ],
   "source": [
    "# Some examples math functions with their definitions (as given in the documentation)\n",
    "\n",
    "x = 1\n",
    "\n",
    "# Return the sine of x radians.\n",
    "print(math.sin(x))\n",
    "\n",
    "# Return the tangent of x radians.\n",
    "print(math.tan(x))\n",
    "\n",
    "# Return the inverse hyperbolic tangent of x.\n",
    "print(math.atan(x))\n",
    "\n"
   ]
  },
  {
   "cell_type": "code",
   "execution_count": 46,
   "metadata": {
    "slideshow": {
     "slide_type": "slide"
    }
   },
   "outputs": [
    {
     "name": "stdout",
     "output_type": "stream",
     "text": [
      "57.29577951308232\n",
      "1.0\n"
     ]
    }
   ],
   "source": [
    "x = 1\n",
    "\n",
    "# Convert angle x from radians to degrees.\n",
    "degrees = math.degrees(x)\n",
    "print(degrees)\n",
    "\n",
    "# Convert angle x from degrees to radians.\n",
    "radians = math.radians(degrees)\n",
    "print(radians)   "
   ]
  },
  {
   "cell_type": "markdown",
   "metadata": {
    "slideshow": {
     "slide_type": "slide"
    }
   },
   "source": [
    "<a id='ReadingFunctionDocumentation'></a>\n",
    "## Reading Function Documentation\n",
    "\n",
    "Online documentation can be used to find out: \n",
    "- what to include in the () parentheses\n",
    "- allowable data types to use as arguments\n",
    "- the order in which arguments should be given \n"
   ]
  },
  {
   "cell_type": "markdown",
   "metadata": {
    "slideshow": {
     "slide_type": "slide"
    }
   },
   "source": [
    "A google search for 'python math documentation' returns:\n",
    "\n",
    "https://docs.python.org/3/library/math.html\n",
    "\n",
    "(this list is not exhaustive). "
   ]
  },
  {
   "cell_type": "markdown",
   "metadata": {
    "slideshow": {
     "slide_type": "subslide"
    }
   },
   "source": [
    "__Try it yourself:__\n",
    "<br> Find a function in the Python math documentation that matches the function definition and use it to solve the following problem:   \n",
    "\n",
    "Return the absolute value of x."
   ]
  },
  {
   "cell_type": "code",
   "execution_count": 47,
   "metadata": {
    "collapsed": true
   },
   "outputs": [],
   "source": [
    "# Return the absolute value of x."
   ]
  },
  {
   "cell_type": "markdown",
   "metadata": {
    "slideshow": {
     "slide_type": "slide"
    }
   },
   "source": [
    "<a id='Examplemathpow'></a>\n",
    "### Example : math.pow ($x^y$)\n",
    "Documentation : https://docs.python.org/3/library/math.html#hyperbolic-functions\n",
    "\n",
    "<img src=\"img/math_pow.png\" alt=\"Drawing\" style=\"width: 700px;\"/> \n",
    "\n",
    "The documentation tells us the following information...\n",
    "\n",
    "##### What arguments to input:\n",
    "\"math.pow(x, y)\"\n",
    "\n",
    "##### What the function returns:\n",
    "\"Return x raised to the power y.\"\n",
    "\n",
    "##### The format of the returend argument:\n",
    "math.pow() converts both its arguments to type float\n",
    "\n"
   ]
  },
  {
   "cell_type": "markdown",
   "metadata": {
    "slideshow": {
     "slide_type": "slide"
    }
   },
   "source": [
    "<a id='Optimise'></a>\n",
    "## Using Package Functions to Optimise your Code\n",
    "A fundamental purpose of using imported functions is to make your code shorter and neater.\n",
    "<br>For example, when designing a game it can be very useful to generate (pseudo) random numbers so that the challenges and problems for the user to solve are not identical every time the game is played.\n",
    "\n",
    "Writing your own algorithm to generate random numbers is unecessarily time-consuming.\n",
    "\n"
   ]
  },
  {
   "cell_type": "markdown",
   "metadata": {
    "slideshow": {
     "slide_type": "slide"
    }
   },
   "source": [
    "`random` is a python module that implements pseudo-random number generators for various distributions.\n",
    "\n",
    "The documentation of the functions in this package can be found here:\n",
    "<br>https://docs.python.org/3/library/random.html#\n",
    "\n",
    "Import random to use functions from this package:"
   ]
  },
  {
   "cell_type": "code",
   "execution_count": 55,
   "metadata": {
    "collapsed": true
   },
   "outputs": [],
   "source": [
    "import random"
   ]
  },
  {
   "cell_type": "markdown",
   "metadata": {
    "collapsed": true,
    "slideshow": {
     "slide_type": "slide"
    }
   },
   "source": [
    "Here are some examples of functions from `random`..."
   ]
  },
  {
   "cell_type": "code",
   "execution_count": 56,
   "metadata": {
    "slideshow": {
     "slide_type": "-"
    }
   },
   "outputs": [
    {
     "data": {
      "text/plain": [
       "3"
      ]
     },
     "execution_count": 56,
     "metadata": {},
     "output_type": "execute_result"
    }
   ],
   "source": [
    "# random.randint(a, b) \n",
    "# Return a random integer N such that a <= N <= b. \n",
    "random.randint(1, 15)\n"
   ]
  },
  {
   "cell_type": "code",
   "execution_count": 57,
   "metadata": {},
   "outputs": [
    {
     "data": {
      "text/plain": [
       "[3, 1, 8, 4]"
      ]
     },
     "execution_count": 57,
     "metadata": {},
     "output_type": "execute_result"
    }
   ],
   "source": [
    "# random.sample(population, k)\n",
    "# Return a k length list of unique elements chosen from the population sequence or set. \n",
    "# Used for random sampling without replacement.\n",
    "random.sample([1,2,3,4,5,6,7,8], 4)"
   ]
  },
  {
   "cell_type": "markdown",
   "metadata": {
    "slideshow": {
     "slide_type": "slide"
    }
   },
   "source": [
    "Random numbers can be used to introduce an element of uncertainty to your programs.\n",
    "\n",
    "This makes a game more intersting as the outcome may be different every time it is played.\n",
    "\n",
    "For example, an adventure game may have a different outcome depending on a random variable."
   ]
  },
  {
   "cell_type": "code",
   "execution_count": 58,
   "metadata": {
    "slideshow": {
     "slide_type": "slide"
    }
   },
   "outputs": [
    {
     "name": "stdout",
     "output_type": "stream",
     "text": [
      "Inside the castle you see a giant spider.\n",
      "Do you fight the spider?  (Yes/No) Yes\n",
      "you defeat the spider. \n",
      "You win!\n"
     ]
    }
   ],
   "source": [
    "print(\"Inside the castle you see a giant spider.\")\n",
    "answer = input(\"Do you fight the spider?  (Yes/No) \")\n",
    "        \n",
    "    \n",
    "if answer == 'Yes':\n",
    "    print(\"you defeat the spider. \\nYou win!\")\n",
    "        \n",
    "else:\n",
    "    print(\"The spider eats you. \\nYou lose!\")"
   ]
  },
  {
   "cell_type": "markdown",
   "metadata": {
    "slideshow": {
     "slide_type": "slide"
    }
   },
   "source": [
    "An adventure game where the outcome is random can be more interesting."
   ]
  },
  {
   "cell_type": "code",
   "execution_count": 59,
   "metadata": {},
   "outputs": [
    {
     "name": "stdout",
     "output_type": "stream",
     "text": [
      "Inside the castle you see a giant spider.\n",
      "Do you fight the spider?  (Yes/No) Yes\n",
      "The spider defeats you. \n",
      "You lose!\n"
     ]
    }
   ],
   "source": [
    "print(\"Inside the castle you see a giant spider.\")\n",
    "answer = input(\"Do you fight the spider?  (Yes/No) \")\n",
    "        \n",
    "    \n",
    "if answer == 'Yes':\n",
    "    number = int(random.randint(0, 2))\n",
    "    if number < 2:\n",
    "        print(\"The spider defeats you. \\nYou lose!\")\n",
    "    else:\n",
    "        print(\"you defeat the spider. \\nYou win!\")\n",
    "        \n",
    "\n",
    "else:\n",
    "    print(\"The spider eats you. \\nYou lose!\")"
   ]
  },
  {
   "cell_type": "markdown",
   "metadata": {
    "slideshow": {
     "slide_type": "slide"
    }
   },
   "source": [
    "Random, computer generated values can also be used to build a game of rock, paper scissors where the user plays against the computer.\n",
    "\n",
    "The code section below shows the case that the player choses *rock*.\n",
    "\n",
    "```python\n",
    "\n",
    "computer = int(random.randint(0, 2))\n",
    "        if computer == 0:\n",
    "            c_choice = \"rock\"\n",
    "        elif spider == 1:\n",
    "            c_choice = \"paper\"\n",
    "        else:\n",
    "            c_choice = \"scissors\"\n",
    "```\n"
   ]
  },
  {
   "cell_type": "markdown",
   "metadata": {
    "slideshow": {
     "slide_type": "slide"
    }
   },
   "source": [
    "The full version of the code is given below."
   ]
  },
  {
   "cell_type": "code",
   "execution_count": 60,
   "metadata": {},
   "outputs": [
    {
     "ename": "IndentationError",
     "evalue": "unexpected indent (<ipython-input-60-474ddd4bd5fc>, line 2)",
     "output_type": "error",
     "traceback": [
      "\u001b[0;36m  File \u001b[0;32m\"<ipython-input-60-474ddd4bd5fc>\"\u001b[0;36m, line \u001b[0;32m2\u001b[0m\n\u001b[0;31m    player_score = 0\u001b[0m\n\u001b[0m    ^\u001b[0m\n\u001b[0;31mIndentationError\u001b[0m\u001b[0;31m:\u001b[0m unexpected indent\n"
     ]
    }
   ],
   "source": [
    "count = 1\n",
    "    player_score = 0\n",
    "    while (count < 4):        \n",
    "        \n",
    "        computer = int(random.randint(0, 2))\n",
    "        if computer == 0:\n",
    "            c_choice = \"rock\"\n",
    "        elif spider == 1:\n",
    "            c_choice = \"paper\"\n",
    "        else:\n",
    "            c_choice = \"scissors\"\n",
    "\n",
    "        p_choice = str(input(\"Round 1: Enter rock, paper, or scissors [R/ P/ S]\"))\n",
    "        \n",
    "        print(f\"computer: {c_choice}\")\n",
    "        if p_choice == \"R\":\n",
    "            if c_choice == \"rock\":\n",
    "                print(\"draw! - play again\")\n",
    "            elif c_choice == \"paper\":\n",
    "                print(f\"computer wins round {count}!\")\n",
    "                count += 1\n",
    "            else:\n",
    "                print(f\"you win round {count}!\")\n",
    "                count += 1\n",
    "                player_score += 1\n",
    "                \n",
    "        elif p_choice == \"P\":\n",
    "            if c_choice == \"rock\":\n",
    "                print(f\"you win round {count}!\")\n",
    "                count += 1\n",
    "                player_score += 1\n",
    "            elif c_choice == \"paper\":\n",
    "                print(\"draw! - play again\")\n",
    "            else:\n",
    "                print(f\"computer wins round {count}!\")\n",
    "                count += 1\n",
    "                \n",
    "        else:\n",
    "            if c_choice == \"rock\":\n",
    "                print(f\"computer wins round {count}!\")\n",
    "                count += 1\n",
    "            elif c_choice == \"paper\":\n",
    "                print(f\"you win round {count}!\")\n",
    "                count += 1\n",
    "                player_score += 1\n",
    "            else:\n",
    "                print(\"draw! - play again\")\n",
    "\n",
    "    if player_score >= 2:\n",
    "        print(\"you win!\")\n",
    "\n",
    "    else: \n",
    "        print(\"you lose!\")\n",
    "    \n"
   ]
  }
 ],
 "metadata": {
  "kernelspec": {
   "display_name": "Python 3",
   "language": "python",
   "name": "python3"
  },
  "language_info": {
   "codemirror_mode": {
    "name": "ipython",
    "version": 3
   },
   "file_extension": ".py",
   "mimetype": "text/x-python",
   "name": "python",
   "nbconvert_exporter": "python",
   "pygments_lexer": "ipython3",
   "version": "3.6.5"
  }
 },
 "nbformat": 4,
 "nbformat_minor": 2
}
